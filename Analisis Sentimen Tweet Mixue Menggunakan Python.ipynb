{
 "cells": [
  {
   "cell_type": "markdown",
   "id": "415ebd12",
   "metadata": {},
   "source": [
    "# Nama : Hahan Nur Rizky\n",
    "# NIM  : 2000016038"
   ]
  },
  {
   "cell_type": "markdown",
   "id": "69b44be1",
   "metadata": {},
   "source": [
    "### Crawling Data Mixue dari Twitter"
   ]
  },
  {
   "cell_type": "code",
   "execution_count": 3,
   "id": "23777831",
   "metadata": {},
   "outputs": [],
   "source": [
    "import snscrape.modules.twitter as sntwitter\n",
    "import pandas as pd"
   ]
  },
  {
   "cell_type": "code",
   "execution_count": 4,
   "id": "3c4227ec",
   "metadata": {},
   "outputs": [
    {
     "name": "stdout",
     "output_type": "stream",
     "text": [
      "Wall time: 0 ns\n",
      "Start crawling\n",
      "selesai\n"
     ]
    }
   ],
   "source": [
    "query = \"mixue\"\n",
    "tweets = []\n",
    "limit = 100\n",
    "\n",
    "%time\n",
    "try:\n",
    "    print(\"Start crawling\")\n",
    "    for tweet in sntwitter.TwitterSearchScraper(query=query).get_items():\n",
    "        if len(tweets) == limit:\n",
    "            break\n",
    "        else:\n",
    "            tweets.append([tweet.user.username, tweet.content])\n",
    "    df = pd.DataFrame(tweets, columns=['username', 'content'])\n",
    "except Exception as e:\n",
    "    print(e)\n",
    "        \n",
    "print(\"selesai\")"
   ]
  },
  {
   "cell_type": "code",
   "execution_count": 5,
   "id": "e297e653",
   "metadata": {},
   "outputs": [
    {
     "data": {
      "text/html": [
       "<div>\n",
       "<style scoped>\n",
       "    .dataframe tbody tr th:only-of-type {\n",
       "        vertical-align: middle;\n",
       "    }\n",
       "\n",
       "    .dataframe tbody tr th {\n",
       "        vertical-align: top;\n",
       "    }\n",
       "\n",
       "    .dataframe thead th {\n",
       "        text-align: right;\n",
       "    }\n",
       "</style>\n",
       "<table border=\"1\" class=\"dataframe\">\n",
       "  <thead>\n",
       "    <tr style=\"text-align: right;\">\n",
       "      <th></th>\n",
       "      <th>username</th>\n",
       "      <th>content</th>\n",
       "    </tr>\n",
       "  </thead>\n",
       "  <tbody>\n",
       "    <tr>\n",
       "      <th>0</th>\n",
       "      <td>v4jr4</td>\n",
       "      <td>@icblues MiXue intensifies ~</td>\n",
       "    </tr>\n",
       "    <tr>\n",
       "      <th>1</th>\n",
       "      <td>bidadarikocakkk</td>\n",
       "      <td>Kalau nggak minum mixue tuh gk punya temen kah?</td>\n",
       "    </tr>\n",
       "    <tr>\n",
       "      <th>2</th>\n",
       "      <td>twtmaknae</td>\n",
       "      <td>Udah full mixue belum disanaaaaa sobattt\\n@luv...</td>\n",
       "    </tr>\n",
       "    <tr>\n",
       "      <th>3</th>\n",
       "      <td>sakkurae</td>\n",
       "      <td>Mixue please stop gatekeeping the strawberry i...</td>\n",
       "    </tr>\n",
       "    <tr>\n",
       "      <th>4</th>\n",
       "      <td>initangg</td>\n",
       "      <td>Gais beli kfc or mixue ya?</td>\n",
       "    </tr>\n",
       "    <tr>\n",
       "      <th>...</th>\n",
       "      <td>...</td>\n",
       "      <td>...</td>\n",
       "    </tr>\n",
       "    <tr>\n",
       "      <th>95</th>\n",
       "      <td>k3tiklim4</td>\n",
       "      <td>@jihann jjn eskrim mixue tengahari mntp tuh makji</td>\n",
       "    </tr>\n",
       "    <tr>\n",
       "      <th>96</th>\n",
       "      <td>ilvuna_</td>\n",
       "      <td>@lastaligator ntar cipy nyanyi mixue 10jam</td>\n",
       "    </tr>\n",
       "    <tr>\n",
       "      <th>97</th>\n",
       "      <td>jnjjxyz</td>\n",
       "      <td>pengen mixue tpi disini blom ada😩</td>\n",
       "    </tr>\n",
       "    <tr>\n",
       "      <th>98</th>\n",
       "      <td>mamatolodon</td>\n",
       "      <td>@meitteok_ minum mixue bikin adem met</td>\n",
       "    </tr>\n",
       "    <tr>\n",
       "      <th>99</th>\n",
       "      <td>Martha_Baqh</td>\n",
       "      <td>@idextratime date di mixue</td>\n",
       "    </tr>\n",
       "  </tbody>\n",
       "</table>\n",
       "<p>100 rows × 2 columns</p>\n",
       "</div>"
      ],
      "text/plain": [
       "           username                                            content\n",
       "0             v4jr4                       @icblues MiXue intensifies ~\n",
       "1   bidadarikocakkk    Kalau nggak minum mixue tuh gk punya temen kah?\n",
       "2         twtmaknae  Udah full mixue belum disanaaaaa sobattt\\n@luv...\n",
       "3          sakkurae  Mixue please stop gatekeeping the strawberry i...\n",
       "4          initangg                         Gais beli kfc or mixue ya?\n",
       "..              ...                                                ...\n",
       "95        k3tiklim4  @jihann jjn eskrim mixue tengahari mntp tuh makji\n",
       "96          ilvuna_         @lastaligator ntar cipy nyanyi mixue 10jam\n",
       "97          jnjjxyz                  pengen mixue tpi disini blom ada😩\n",
       "98      mamatolodon              @meitteok_ minum mixue bikin adem met\n",
       "99      Martha_Baqh                         @idextratime date di mixue\n",
       "\n",
       "[100 rows x 2 columns]"
      ]
     },
     "execution_count": 5,
     "metadata": {},
     "output_type": "execute_result"
    }
   ],
   "source": [
    "df"
   ]
  },
  {
   "cell_type": "code",
   "execution_count": 6,
   "id": "c300dec7",
   "metadata": {},
   "outputs": [],
   "source": [
    "# Konversi dataframe menjadi string\n",
    "text = df.to_string()"
   ]
  },
  {
   "cell_type": "code",
   "execution_count": 7,
   "id": "0ef3eafc",
   "metadata": {},
   "outputs": [
    {
     "name": "stdout",
     "output_type": "stream",
     "text": [
      "           username                                                                                                                                                                                                                                                                              content\n",
      "0             v4jr4                                                                                                                                                                                                                                                         @icblues MiXue intensifies ~\n",
      "1   bidadarikocakkk                                                                                                                                                                                                                                      Kalau nggak minum mixue tuh gk punya temen kah?\n",
      "2         twtmaknae                                                                                                                                                                                                       Udah full mixue belum disanaaaaa sobattt\\n@luvtinyteez https://t.co/lepH4OqLRg\n",
      "3          sakkurae                                                                                                                                                                                                                               Mixue please stop gatekeeping the strawberry ice cream\n",
      "4          initangg                                                                                                                                                                                                                                                           Gais beli kfc or mixue ya?\n",
      "5          lhokgnot                                                                                                                                                                                                                                                @tanyakanrl beli franchise mixue nder\n",
      "6          astrnavt                                                                                                                                                                                                             ate gak wareg yaopo wong roti sisir, mixue, pangsit, siomay melbu kabeh😣\n",
      "7   reginalexandraa                                                                                                                                                                                                               selamat 100 juta penduduk jo, jangan lupa mixue nyaa 😋 @jonathantasena\n",
      "8       heiseonberg                                                                                                                                                                                                                                                           @uppersideffects woy MIXUE\n",
      "9    KawaiiKU_desu_                                                                                                                                                                     @HwongDesou Di sekitar rumah aku ada Ruko yang kebetulan di sewa kan, kemungkinan besar akan jadi Mixue nantinya\n",
      "10       Forelskeut                                                                                                                                                                                                                                        Mixue hampir tiap hari, boncos gue lama-lama.\n",
      "11    beombeargyu13                                                                                                                                                                                                                              @friday_0999 Mixue tek tek tek tek tek (mixue ft latto)\n",
      "12         abelafyu                                                                                                                                                                                                                                                              duh pgn seblak sm mixue\n",
      "13        immochimo                                                                                                                                                                                                                                                rasanya mau jalan ke depan beli mixue\n",
      "14        Miaunghao                                                                                                                                             @VOUISVRE ️️ ️️\\n️️ ️️\\n️️ ️️\\n️Mana enak anjir rumahnya gerai Mixueeee... Gajadilah gue ngajak lo ke peresmian gerai Mixue! \\n️️ ️\\n\\n️\n",
      "15       nan_amalia                                                                                                                                                                                                            @althanara semangaaaat, kita harus hidup krn blm cobain mixue rasa indomi\n",
      "16   neymarsgfriend                                                                                                                                                                                                                                                                       @itsbryl Mixue\n",
      "17        darjofess                                                                                                                                                                                                                                              sdf! info mixue seng ga sepiro rame rek\n",
      "18        Seokhye15                                                                                                                                                                                                                                                          @sf_anastasiaa Knp gk mixue\n",
      "19    qirongsbaobei                                                                                                                                                                                                                   @mxtx_fess Bisa bunyi ni ai wo wo ai ni mixue bing cheng tianmi mi\n",
      "20      alyathekidd                                                                                                                                                                                                                                       @nnajww mixue yang paling enak yang mana dehh?\n",
      "21          btbti_s                                                                                                                                                                                                                @convomf uwu bet cerita org, sementara hatiku hampir jadi lapak mixue\n",
      "22      hyjsunshine                                                                                                                                                                                          Belom pernah nyobain mixue, saran dong gaes yg enak apa 😚\\npic ctto https://t.co/LMhL9h2RUL\n",
      "23    kurniawatie77          bokep anak SMK viral\\n==&gt; https://t.co/DIFYpkrp5Q &lt;==\\n\\n#TimnasDay Mixue Hansamu Fajar Aceh JENRINA JAYA JAYA JAYA Brunei Bisma Morgan Ramadhan Sananta #SongJoongKi Syahrian Abimanyu #ometv #ometvsange #ometvbocil #ometvbugil #ometvhot #ometvcolmek #ometvhijab\n",
      "24      karinabuaya                                                                                                                                                                                                                                               aku suka mixue https://t.co/Hl78Lcxkx9\n",
      "25        Miaunghao                                                                                                                                                                    @VOUISVRE ️️ ️️\\n️️ ️️\\n️️ ️️\\n️ Iyalahh!! Dedikasi gue buat Mixue itu sangat patut diacungi jempol!! \\n️️ ️\\n\\n️\n",
      "26        Andisan23         buset bos, jd viral, sedikit 18+ .\\nhttps://t.co/1cH2GuQUMu\\n\\n#TimnasDay Mixue Hansamu Fajar Aceh JENRINA JAYA JAYA JAYA Brunei Bisma Morgan Ramadhan Sananta #SongJoongKi Syahrian Abimanyu #ometv #ometvsange #ometvbocil #ometvbugil #ometvhotSyahrian Abimanyu Alfamidi\n",
      "27        reallinoo                                                                                                                                                                                                                    Tim mixue beli lemonadenya karena enak!!! https://t.co/JNmK326tef\n",
      "28         almondcz                                                                                                                                                                                                                                    @euphorialya @153926440f ndd mixue nya barru kah?\n",
      "29       jjoengsong                                                       @aiszalee Kurang semangat, harusnya gini.\\n😝Ni AwO💃 oW0 aNi We sEpeNg sAdA miMi🤘 ni aWO🤪 oWo aNi wE SePeNg SadA miMi👆 but 🤗Ni Ai w0🕺 Wo Ai ni🦄 mixue BiNg cHenG😩 tiAn mi Mi💞 Ni ai Wo😎 Wo ai Ni👍 mixue biNg cHenG😴 tiAn Mi mi🙏\n",
      "30          Prk_Zaz                                                                                                                                                                                                                        akun w sepi banget seperti hati, smoga tida jdi cabang mixue😔\n",
      "31       somaykotak            @sbyfess Aku sek trauma ng mixue:(( order strwbry lucky sundae pake waffle jare kasir e \"bisa banget kak. Pake waffle yah\" pas tak jukuk oleh e pudding. Pas tak protes ngomong e suengak \"waffle habis ya\" terus yo tak eyel didepan katanya bisa. Lahkok cah e ngomong-\n",
      "32           gyukvn                                                                                                                                                                                                                           Gigi kosong di isi sama mixue ntar https://t.co/tk1zZspccr\n",
      "33    fullofsky6104                                                                                                                                                                     Gak tau kenapa, badmood bgt tiba². Di tambah beli mixue Jasmine tea malah jadi earl tea🥺 https://t.co/RtthyUjCzK\n",
      "34     mbokyomandek                                                                                                                                                                                                                                            @Dekyumz aamiin yum mau buka outlet mixue\n",
      "35         deylio0o                                                                                                                                                                                                                                  @omnivaraa Saldonya bisa buat beli ruko mixue gx?😭😭\n",
      "36          m0neyac                                                                                                                                                                                                                                                 mixue date 🥰 https://t.co/iGS3zQU35S\n",
      "37   stanidolmustbe                                                                                                                                                                                                                                                          @tanyakanrl buka mixue nder\n",
      "38         ASAAVEEN                                                                                                                                                                                              @dolcyko @treasuremembers HDUHH MNA NIEE MIXUE, INI HRUS BNGT DILIRIK TWW, URWELL LOVEE\n",
      "39          ofJaake                                                                                                                                                                                                                                    @awyubin @tak badut mixue mana bisa main lato? :)\n",
      "40      lostranenie    ㅤ\\nMUST INCLUDE :\\n1. Nama OC\\n2. Foto muse\\n3. Funfact (yang di greeting kemarin, boleh ganti dengan persetujuan kelompok)\\n4. Tagline dari brand yang diplesetin\\n\\nSisanya mau tambahin apa aja bebas. Jadi sponsor kali ini bukan cuma mixue tapi semua brand-brand itu. 😁\\nㅤ\n",
      "41     stasiunancol                                                                                                                                                                                                                                                    @Naodje729 knp jd BA mixue si ji😭\n",
      "42       blvueocean                                                                                                                                                                                                abang nih bener bener pengen ayah tuker tambah sama mixue aja https://t.co/qcqntcTqVc\n",
      "43    ahmad_reality                                                                                                                                                                                           @iunaSeraline Bukan jadi gerai mixue palingan jadi chanel official mixue Indonesia wkwkwkw\n",
      "44         EIGHT1NY  diisi mixue, kak jangan nyerah dulu one piece belum tamat, kak sini shampoo sama kondiku masih banyak, nanti aku kasih, dsb\" kata² kaya gini kenapa berimbas banget ya? Mereka nyemangatin dengan kata lelucon, tapi malah bikin nangis???\\nDan pas wooyoung cover Logic, gw seakan\n",
      "45          lucifbr                                                                                                                                                                                                                                           enak ini didatengin, malah jadi mixue date\n",
      "46       senjakalaw                                                                                                                                                                                                                                                        mixue buka cabang di dom gue🤥\n",
      "47       _senanana_                                                                                                                                       balik ke akun ini, tau2 diambil alih mixue\\n\\n【MMD Genshin Impact】蜜雪冰城  【5WIRL】 https://t.co/ti1kG24z9n via \\n@YouTube https://t.co/BUDZOJCNl5\n",
      "48          lucifbr                                                                                                                                                                                                                   tadi ketemu juza di gerai mixue sebelah... https://t.co/BxVUE4IOQl\n",
      "49      Dahliaswand                                                                                                                                                                                                                         @mixue_lndonesla @tanyakanrl Soal harga lumayan dbawahnya ya\n",
      "50      aku_alpukat                                                                                                                                                                                                                                                              Beliin aku mixue dong 🥲\n",
      "51         VOUISVRE                                                                                                                                                                                                      @Miaunghao ㅤ\\nㅤㅤ\\nUdahlah, sekalian lo pindah rumah di gerai Mixue aja. \\nㅤ\\nㅤㅤ\n",
      "52         yuzinhan                                                                                                                                                                                                             @yarnzzn Jadi ga diajarin bahasa mixue, Kak? Atau kasih toko mixue satu.\n",
      "53            oohf_                                                                                                                                                                                                                                                    Salah bgt ke mixue di jam segini🙂\n",
      "54   wintersurabaya                                                                                                                                                                                                                                   @convomfs Rillll. Aku kalo ke mixue suka pesen ini\n",
      "55         MakoOrca                                                                                                                                                                                                                                                 @jihann Sama aku pgn nyobain mixue 😬\n",
      "56      kuncirfiony                                                                                                                                                                                                                @Symfiony @A_FionyJKT48 Loh kok aktif, hampir aja d jadiin akun mixue\n",
      "57        Panzzzzzu                                                                                                                                                                                                                   @gibran_tweet Gimana mas udah ijin belum mixue nya di kota nya mas\n",
      "58   neverminddaeng                                                                                                                                                                                                                                    sorry bgt tp kayak mixue😞 https://t.co/zp5bgd75uq\n",
      "59        urnicesee                                                                                                                                                                                         @mengslebew latto latto sm mixue jadi bersaing pacepet cepet siapa yg pertama mengusai dunia\n",
      "60        RafifArga                            @razaksyarif Beda bro, kalo tukang bakso kan ada kasus di mana bakso tuh ada OKNUM yang pake boraks, formalin, dan daging tikus, itu di agama tertentu boleh makanya gak minta logo\\n\\nKalo mixue karena perusahaan gede cina komunis PKI harus pake logo\n",
      "61  Strawbe44817318                                                                                                                                                                                        @mstlyrhw @tanyarlfes @chichamonie Ga dulu 🙏, adiknya nila aja nanti uang nya buat beli mixue\n",
      "62       arrasseoyo                                                                                                                  @moonareas ni 🤪 ai 😘 wo 💅 ai 🥺 ni 🤭 mixue 👻 bing 🙄 cheng 😆 tianmi 🏃‍♀ mi 😭 ni 🤪 ai 😘 wo 💅 ai 🥺 ni 🤭 mixue 👻 bing 🙄 cheng 😆 tianmi 🏃‍♀ mi 😭 terektek 🦍 tek 😱 tek 🙊 🤍\n",
      "63  paintcoatdbrush                                                                                                                                                                                                                   GENSHIN ANEMO BOYS MIXUE COVER ASJKNDF,VSA https://t.co/kGmrAUiRQ3\n",
      "64  dinasbakuhantam                                                                                                                                                                                                                        @Askrlfess Yg demo org² miskin yg bhkan gatau menu mixue wkwk\n",
      "65  slayerdarklord7                                                                                                                                                                                                                                                   @hourly_absurd Mixue berebut lahan\n",
      "66       arrasseoyo                                                                                                                    @moonareas ni 🤪 ai 😘 wo 💅 ai 🥺 ni 🤭 mixue 👻 bing 🙄 cheng 😆 tianmi 🏃‍♀ mi 😭 ni 🤪 ai 😘 wo 💅 ai 🥺 ni 🤭 mixue 👻 bing 🙄 cheng 😆 tianmi 🏃‍♀ mi 😭 terektek 🦍 tek 😱 tek 🙊\n",
      "67      Ikaasthetic      @tanyarlfes kamu belum keliling nyobain gerai mixue di seluruh indonesia nderr, kamu gamau tau ending one piece kahh? hehe u did a great job by so far. imo klo aku mati skrg dosaku masih banyak, tersiksa di dunia bisa bundir, tp kalo tersiksa di neraka mau lari kmn lagi?\n",
      "68    LiedOfSpheres                                                                                                                                       1. ada kucing, warnanya oren, kemana-mana pake pita merah, terus bola matanya hijau, jalan-jalan di depan ruko mixue. \\n\\nP1 mulai sampe 13.15\n",
      "69        kanimakii                                                                                                                                                                                           ttp mixue for the rescue krna DILUAR PANAS BGT ANJRIIITTR???!!!??? https://t.co/5u7U8wEneb\n",
      "70   sashaodolhalal                                                                                                                                                                                                         Tolong ini mah, playlist ku udah dijajah oleh mixue😭 https://t.co/UpkYRqW7ov\n",
      "71         asaheint                                                                                                                                                                                                                              @yjhpride ni ai wo wo ai ni mixue bing cheng tian mi mi\n",
      "72   spicysourcandy                                                                                                                                                                                                               apa persamaan kamu sama mixue? punya cabang dimana\"\\n\\ni got fr tiktok\n",
      "73       dodysoerja                                                                                                                                                                                                                                            Jadi pengen mixue https://t.co/lh1w5CiYHE\n",
      "74        JUNHANtto                                                                                                                                                                                                      @WINTERddo kalau gratis aku harus bangun mixue di kamar teteh, gmn.. masih mau?\n",
      "75       arrasseoyo                                                                                                                                                                                                                                                    @moonareas mixue yg selalu kosong\n",
      "76        Miaunghao                                                                                                                                                                                    @VOUISVRE ️️ ️️\\n️️ ️️\\n️️ ️️\\n️ Nggaaaakkkkkkk, nanti malem mau ke peresmian Mixue!! \\n️️ ️\\n\\n️\n",
      "77        JUNHANtto                                                                                                                                                                                                       @SOHYUNddo @stayinditto boleh, tp harus bangun gerai mixue dulu di rumah teteh\n",
      "78    vanyfebrianaa                                                                                                                                                          Ngikutin yg lg viral, beli es cream mixue, panas panas siang siang ke mall cijantung demi anak hehe https://t.co/xatNSoy8KB\n",
      "79       salrsdafny                                                                                                                                                                                                                                                       alhamdulillah batu punya mixue\n",
      "80     cermindandan                                                                                                                                                                                                                           ✨️Manifesting Mixue buka di pinggir jalan raya rumah gue✨️\n",
      "81        kuntieida                                                                                                                                                                    masih ga nyangka kelompok mixue ini menang.. grup nya kosong ga pernah bahas materi cuma semangat semangat doang🥲\n",
      "82         SVNOOKlM                                                                                                                                                                                                                                           gue pengen pizza tp mau lemonade nya mixue\n",
      "83        Miaunghao                                                                                                                                                                                         @VOUISVRE ️️ ️️\\n️️ ️️\\n️️ ️️\\nGue akan tetap berpegang teguh pada badut Mixue!! \\n️️ ️\\n\\n️\n",
      "84      tribunjogja                                                                                                                                                                                           Fenomena Mixue Menjamur di Indonesia, Ini Analisis Akademisi Unair https://t.co/iFbrvd0XzW\n",
      "85    afif_harfandi                                                                                                                                                                                                                                           @Loceaniee86 Sama mixue manisan mana kak 🤣\n",
      "86         SVNOOKlM                                                                                                                                                                                                                                                             di pim gak ada mixue kah\n",
      "87         kumparan                                                                                                                                     Area Manajer dari salah satu cabang Mixue ini juga mengungkap jumlah modal untuk membuka outletnya. #focus #mixue #story https://t.co/k5HmcyUiX6\n",
      "88         Areloghy                                                                                                                                                                                                                                             I Mixue You.. 🫠🫠 https://t.co/0Jqqf7xJHa\n",
      "89         GrapedUp                                                                                                                                                                                                               @kuroo07 HAHAHAHA MIXUE\\nAsli yaaa kotak kota kecil tp ada mixue 2 😭😭😭\n",
      "90  reginalexandraa                                                                                                                                                                                                                                                     @c_yelizavetha suka nyaa mixue??\n",
      "91         roswelie                                                                                                                                                                                                                       Hidup gue dijajah mixue anjir lah wkwk https://t.co/m3i861Tviq\n",
      "92         vrenzian                                                                                                                                                                                                                                                @clouddyavocado @moonareas beli mixue\n",
      "93       emiraldine                                                                                                                                                                                                    Ini dipantau ya temen temen udh sampe ngedate ke mixue😏😏😏 https://t.co/wZEnhlAZam\n",
      "94        hufflefey                                                                                                                                                                                 Setiap toko mixue yang baru buka langsung gas ngueng https://t.co/V7swtrdRU7 https://t.co/mZsMuTBTbM\n",
      "95        k3tiklim4                                                                                                                                                                                                                                    @jihann jjn eskrim mixue tengahari mntp tuh makji\n",
      "96          ilvuna_                                                                                                                                                                                                                                           @lastaligator ntar cipy nyanyi mixue 10jam\n",
      "97          jnjjxyz                                                                                                                                                                                                                                                    pengen mixue tpi disini blom ada😩\n",
      "98      mamatolodon                                                                                                                                                                                                                                                @meitteok_ minum mixue bikin adem met\n",
      "99      Martha_Baqh                                                                                                                                                                                                                                                           @idextratime date di mixue\n"
     ]
    }
   ],
   "source": [
    "print(text)"
   ]
  },
  {
   "cell_type": "code",
   "execution_count": 8,
   "id": "81a690da",
   "metadata": {},
   "outputs": [
    {
     "name": "stderr",
     "output_type": "stream",
     "text": [
      "[nltk_data] Downloading package punkt to\n",
      "[nltk_data]     C:\\Users\\ACER\\AppData\\Roaming\\nltk_data...\n",
      "[nltk_data]   Package punkt is already up-to-date!\n"
     ]
    },
    {
     "data": {
      "text/plain": [
       "True"
      ]
     },
     "execution_count": 8,
     "metadata": {},
     "output_type": "execute_result"
    }
   ],
   "source": [
    "import nltk\n",
    "nltk.download('punkt')"
   ]
  },
  {
   "cell_type": "markdown",
   "id": "18e969ea",
   "metadata": {},
   "source": [
    "### tokenization"
   ]
  },
  {
   "cell_type": "code",
   "execution_count": 9,
   "id": "8747a6f1",
   "metadata": {},
   "outputs": [],
   "source": [
    "\n",
    "tokens = nltk.word_tokenize(text)"
   ]
  },
  {
   "cell_type": "code",
   "execution_count": 10,
   "id": "92fdd612",
   "metadata": {},
   "outputs": [
    {
     "name": "stdout",
     "output_type": "stream",
     "text": [
      "['username', 'content', '0', 'v4jr4', '@', 'icblues', 'MiXue', 'intensifies', '~', '1', 'bidadarikocakkk', 'Kalau', 'nggak', 'minum', 'mixue', 'tuh', 'gk', 'punya', 'temen', 'kah', '?', '2', 'twtmaknae', 'Udah', 'full', 'mixue', 'belum', 'disanaaaaa', 'sobattt\\\\n', '@', 'luvtinyteez', 'https', ':', '//t.co/lepH4OqLRg', '3', 'sakkurae', 'Mixue', 'please', 'stop', 'gatekeeping', 'the', 'strawberry', 'ice', 'cream', '4', 'initangg', 'Gais', 'beli', 'kfc', 'or', 'mixue', 'ya', '?', '5', 'lhokgnot', '@', 'tanyakanrl', 'beli', 'franchise', 'mixue', 'nder', '6', 'astrnavt', 'ate', 'gak', 'wareg', 'yaopo', 'wong', 'roti', 'sisir', ',', 'mixue', ',', 'pangsit', ',', 'siomay', 'melbu', 'kabeh😣', '7', 'reginalexandraa', 'selamat', '100', 'juta', 'penduduk', 'jo', ',', 'jangan', 'lupa', 'mixue', 'nyaa', '😋', '@', 'jonathantasena', '8', 'heiseonberg', '@', 'uppersideffects', 'woy', 'MIXUE', '9', 'KawaiiKU_desu_', '@', 'HwongDesou', 'Di', 'sekitar', 'rumah', 'aku', 'ada', 'Ruko', 'yang', 'kebetulan', 'di', 'sewa', 'kan', ',', 'kemungkinan', 'besar', 'akan', 'jadi', 'Mixue', 'nantinya', '10', 'Forelskeut', 'Mixue', 'hampir', 'tiap', 'hari', ',', 'boncos', 'gue', 'lama-lama', '.', '11', 'beombeargyu13', '@', 'friday_0999', 'Mixue', 'tek', 'tek', 'tek', 'tek', 'tek', '(', 'mixue', 'ft', 'latto', ')', '12', 'abelafyu', 'duh', 'pgn', 'seblak', 'sm', 'mixue', '13', 'immochimo', 'rasanya', 'mau', 'jalan', 'ke', 'depan', 'beli', 'mixue', '14', 'Miaunghao', '@', 'VOUISVRE', '️️', '️️\\\\n️️', '️️\\\\n️️', '️️\\\\n️Mana', 'enak', 'anjir', 'rumahnya', 'gerai', 'Mixueeee', '...', 'Gajadilah', 'gue', 'ngajak', 'lo', 'ke', 'peresmian', 'gerai', 'Mixue', '!', '\\\\n️️', '️\\\\n\\\\n️', '15', 'nan_amalia', '@', 'althanara', 'semangaaaat', ',', 'kita', 'harus', 'hidup', 'krn', 'blm', 'cobain', 'mixue', 'rasa', 'indomi', '16', 'neymarsgfriend', '@', 'itsbryl', 'Mixue', '17', 'darjofess', 'sdf', '!', 'info', 'mixue', 'seng', 'ga', 'sepiro', 'rame', 'rek', '18', 'Seokhye15', '@', 'sf_anastasiaa', 'Knp', 'gk', 'mixue', '19', 'qirongsbaobei', '@', 'mxtx_fess', 'Bisa', 'bunyi', 'ni', 'ai', 'wo', 'wo', 'ai', 'ni', 'mixue', 'bing', 'cheng', 'tianmi', 'mi', '20', 'alyathekidd', '@', 'nnajww', 'mixue', 'yang', 'paling', 'enak', 'yang', 'mana', 'dehh', '?', '21', 'btbti_s', '@', 'convomf', 'uwu', 'bet', 'cerita', 'org', ',', 'sementara', 'hatiku', 'hampir', 'jadi', 'lapak', 'mixue', '22', 'hyjsunshine', 'Belom', 'pernah', 'nyobain', 'mixue', ',', 'saran', 'dong', 'gaes', 'yg', 'enak', 'apa', '😚\\\\npic', 'ctto', 'https', ':', '//t.co/LMhL9h2RUL', '23', 'kurniawatie77', 'bokep', 'anak', 'SMK', 'viral\\\\n==', '&', 'gt', ';', 'https', ':', '//t.co/DIFYpkrp5Q', '&', 'lt', ';', '==\\\\n\\\\n', '#', 'TimnasDay', 'Mixue', 'Hansamu', 'Fajar', 'Aceh', 'JENRINA', 'JAYA', 'JAYA', 'JAYA', 'Brunei', 'Bisma', 'Morgan', 'Ramadhan', 'Sananta', '#', 'SongJoongKi', 'Syahrian', 'Abimanyu', '#', 'ometv', '#', 'ometvsange', '#', 'ometvbocil', '#', 'ometvbugil', '#', 'ometvhot', '#', 'ometvcolmek', '#', 'ometvhijab', '24', 'karinabuaya', 'aku', 'suka', 'mixue', 'https', ':', '//t.co/Hl78Lcxkx9', '25', 'Miaunghao', '@', 'VOUISVRE', '️️', '️️\\\\n️️', '️️\\\\n️️', '️️\\\\n️', 'Iyalahh', '!', '!', 'Dedikasi', 'gue', 'buat', 'Mixue', 'itu', 'sangat', 'patut', 'diacungi', 'jempol', '!', '!', '\\\\n️️', '️\\\\n\\\\n️', '26', 'Andisan23', 'buset', 'bos', ',', 'jd', 'viral', ',', 'sedikit', '18+', '.\\\\nhttps', ':', '//t.co/1cH2GuQUMu\\\\n\\\\n', '#', 'TimnasDay', 'Mixue', 'Hansamu', 'Fajar', 'Aceh', 'JENRINA', 'JAYA', 'JAYA', 'JAYA', 'Brunei', 'Bisma', 'Morgan', 'Ramadhan', 'Sananta', '#', 'SongJoongKi', 'Syahrian', 'Abimanyu', '#', 'ometv', '#', 'ometvsange', '#', 'ometvbocil', '#', 'ometvbugil', '#', 'ometvhotSyahrian', 'Abimanyu', 'Alfamidi', '27', 'reallinoo', 'Tim', 'mixue', 'beli', 'lemonadenya', 'karena', 'enak', '!', '!', '!', 'https', ':', '//t.co/JNmK326tef', '28', 'almondcz', '@', 'euphorialya', '@', '153926440f', 'ndd', 'mixue', 'nya', 'barru', 'kah', '?', '29', 'jjoengsong', '@', 'aiszalee', 'Kurang', 'semangat', ',', 'harusnya', 'gini.\\\\n😝Ni', 'AwO💃', 'oW0', 'aNi', 'We', 'sEpeNg', 'sAdA', 'miMi🤘', 'ni', 'aWO🤪', 'oWo', 'aNi', 'wE', 'SePeNg', 'SadA', 'miMi👆', 'but', '🤗Ni', 'Ai', 'w0🕺', 'Wo', 'Ai', 'ni🦄', 'mixue', 'BiNg', 'cHenG😩', 'tiAn', 'mi', 'Mi💞', 'Ni', 'ai', 'Wo😎', 'Wo', 'ai', 'Ni👍', 'mixue', 'biNg', 'cHenG😴', 'tiAn', 'Mi', 'mi🙏', '30', 'Prk_Zaz', 'akun', 'w', 'sepi', 'banget', 'seperti', 'hati', ',', 'smoga', 'tida', 'jdi', 'cabang', 'mixue😔', '31', 'somaykotak', '@', 'sbyfess', 'Aku', 'sek', 'trauma', 'ng', 'mixue', ':', '(', '(', 'order', 'strwbry', 'lucky', 'sundae', 'pake', 'waffle', 'jare', 'kasir', 'e', '``', 'bisa', 'banget', 'kak', '.', 'Pake', 'waffle', 'yah', \"''\", 'pas', 'tak', 'jukuk', 'oleh', 'e', 'pudding', '.', 'Pas', 'tak', 'protes', 'ngomong', 'e', 'suengak', '``', 'waffle', 'habis', 'ya', \"''\", 'terus', 'yo', 'tak', 'eyel', 'didepan', 'katanya', 'bisa', '.', 'Lahkok', 'cah', 'e', 'ngomong-', '32', 'gyukvn', 'Gigi', 'kosong', 'di', 'isi', 'sama', 'mixue', 'ntar', 'https', ':', '//t.co/tk1zZspccr', '33', 'fullofsky6104', 'Gak', 'tau', 'kenapa', ',', 'badmood', 'bgt', 'tiba²', '.', 'Di', 'tambah', 'beli', 'mixue', 'Jasmine', 'tea', 'malah', 'jadi', 'earl', 'tea🥺', 'https', ':', '//t.co/RtthyUjCzK', '34', 'mbokyomandek', '@', 'Dekyumz', 'aamiin', 'yum', 'mau', 'buka', 'outlet', 'mixue', '35', 'deylio0o', '@', 'omnivaraa', 'Saldonya', 'bisa', 'buat', 'beli', 'ruko', 'mixue', 'gx', '?', '😭😭', '36', 'm0neyac', 'mixue', 'date', '🥰', 'https', ':', '//t.co/iGS3zQU35S', '37', 'stanidolmustbe', '@', 'tanyakanrl', 'buka', 'mixue', 'nder', '38', 'ASAAVEEN', '@', 'dolcyko', '@', 'treasuremembers', 'HDUHH', 'MNA', 'NIEE', 'MIXUE', ',', 'INI', 'HRUS', 'BNGT', 'DILIRIK', 'TWW', ',', 'URWELL', 'LOVEE', '39', 'ofJaake', '@', 'awyubin', '@', 'tak', 'badut', 'mixue', 'mana', 'bisa', 'main', 'lato', '?', ':', ')', '40', 'lostranenie', 'ㅤ\\\\nMUST', 'INCLUDE', ':', '\\\\n1', '.', 'Nama', 'OC\\\\n2', '.', 'Foto', 'muse\\\\n3', '.', 'Funfact', '(', 'yang', 'di', 'greeting', 'kemarin', ',', 'boleh', 'ganti', 'dengan', 'persetujuan', 'kelompok', ')', '\\\\n4', '.', 'Tagline', 'dari', 'brand', 'yang', 'diplesetin\\\\n\\\\nSisanya', 'mau', 'tambahin', 'apa', 'aja', 'bebas', '.', 'Jadi', 'sponsor', 'kali', 'ini', 'bukan', 'cuma', 'mixue', 'tapi', 'semua', 'brand-brand', 'itu', '.', '😁\\\\nㅤ', '41', 'stasiunancol', '@', 'Naodje729', 'knp', 'jd', 'BA', 'mixue', 'si', 'ji😭', '42', 'blvueocean', 'abang', 'nih', 'bener', 'bener', 'pengen', 'ayah', 'tuker', 'tambah', 'sama', 'mixue', 'aja', 'https', ':', '//t.co/qcqntcTqVc', '43', 'ahmad_reality', '@', 'iunaSeraline', 'Bukan', 'jadi', 'gerai', 'mixue', 'palingan', 'jadi', 'chanel', 'official', 'mixue', 'Indonesia', 'wkwkwkw', '44', 'EIGHT1NY', 'diisi', 'mixue', ',', 'kak', 'jangan', 'nyerah', 'dulu', 'one', 'piece', 'belum', 'tamat', ',', 'kak', 'sini', 'shampoo', 'sama', 'kondiku', 'masih', 'banyak', ',', 'nanti', 'aku', 'kasih', ',', 'dsb', \"''\", 'kata²', 'kaya', 'gini', 'kenapa', 'berimbas', 'banget', 'ya', '?', 'Mereka', 'nyemangatin', 'dengan', 'kata', 'lelucon', ',', 'tapi', 'malah', 'bikin', 'nangis', '?', '?', '?', '\\\\nDan', 'pas', 'wooyoung', 'cover', 'Logic', ',', 'gw', 'seakan', '45', 'lucifbr', 'enak', 'ini', 'didatengin', ',', 'malah', 'jadi', 'mixue', 'date', '46', 'senjakalaw', 'mixue', 'buka', 'cabang', 'di', 'dom', 'gue🤥', '47', '_senanana_', 'balik', 'ke', 'akun', 'ini', ',', 'tau2', 'diambil', 'alih', 'mixue\\\\n\\\\n【MMD', 'Genshin', 'Impact】蜜雪冰城', '【5WIRL】', 'https', ':', '//t.co/ti1kG24z9n', 'via', '\\\\n', '@', 'YouTube', 'https', ':', '//t.co/BUDZOJCNl5', '48', 'lucifbr', 'tadi', 'ketemu', 'juza', 'di', 'gerai', 'mixue', 'sebelah', '...', 'https', ':', '//t.co/BxVUE4IOQl', '49', 'Dahliaswand', '@', 'mixue_lndonesla', '@', 'tanyakanrl', 'Soal', 'harga', 'lumayan', 'dbawahnya', 'ya', '50', 'aku_alpukat', 'Beliin', 'aku', 'mixue', 'dong', '🥲', '51', 'VOUISVRE', '@', 'Miaunghao', 'ㅤ\\\\nㅤㅤ\\\\nUdahlah', ',', 'sekalian', 'lo', 'pindah', 'rumah', 'di', 'gerai', 'Mixue', 'aja', '.', '\\\\nㅤ\\\\nㅤㅤ', '52', 'yuzinhan', '@', 'yarnzzn', 'Jadi', 'ga', 'diajarin', 'bahasa', 'mixue', ',', 'Kak', '?', 'Atau', 'kasih', 'toko', 'mixue', 'satu', '.', '53', 'oohf_', 'Salah', 'bgt', 'ke', 'mixue', 'di', 'jam', 'segini🙂', '54', 'wintersurabaya', '@', 'convomfs', 'Rillll', '.', 'Aku', 'kalo', 'ke', 'mixue', 'suka', 'pesen', 'ini', '55', 'MakoOrca', '@', 'jihann', 'Sama', 'aku', 'pgn', 'nyobain', 'mixue', '😬', '56', 'kuncirfiony', '@', 'Symfiony', '@', 'A_FionyJKT48', 'Loh', 'kok', 'aktif', ',', 'hampir', 'aja', 'd', 'jadiin', 'akun', 'mixue', '57', 'Panzzzzzu', '@', 'gibran_tweet', 'Gimana', 'mas', 'udah', 'ijin', 'belum', 'mixue', 'nya', 'di', 'kota', 'nya', 'mas', '58', 'neverminddaeng', 'sorry', 'bgt', 'tp', 'kayak', 'mixue😞', 'https', ':', '//t.co/zp5bgd75uq', '59', 'urnicesee', '@', 'mengslebew', 'latto', 'latto', 'sm', 'mixue', 'jadi', 'bersaing', 'pacepet', 'cepet', 'siapa', 'yg', 'pertama', 'mengusai', 'dunia', '60', 'RafifArga', '@', 'razaksyarif', 'Beda', 'bro', ',', 'kalo', 'tukang', 'bakso', 'kan', 'ada', 'kasus', 'di', 'mana', 'bakso', 'tuh', 'ada', 'OKNUM', 'yang', 'pake', 'boraks', ',', 'formalin', ',', 'dan', 'daging', 'tikus', ',', 'itu', 'di', 'agama', 'tertentu', 'boleh', 'makanya', 'gak', 'minta', 'logo\\\\n\\\\nKalo', 'mixue', 'karena', 'perusahaan', 'gede', 'cina', 'komunis', 'PKI', 'harus', 'pake', 'logo', '61', 'Strawbe44817318', '@', 'mstlyrhw', '@', 'tanyarlfes', '@', 'chichamonie', 'Ga', 'dulu', '🙏', ',', 'adiknya', 'nila', 'aja', 'nanti', 'uang', 'nya', 'buat', 'beli', 'mixue', '62', 'arrasseoyo', '@', 'moonareas', 'ni', '🤪', 'ai', '😘', 'wo', '💅', 'ai', '🥺', 'ni', '🤭', 'mixue', '👻', 'bing', '🙄', 'cheng', '😆', 'tianmi', '🏃\\u200d♀', 'mi', '😭', 'ni', '🤪', 'ai', '😘', 'wo', '💅', 'ai', '🥺', 'ni', '🤭', 'mixue', '👻', 'bing', '🙄', 'cheng', '😆', 'tianmi', '🏃\\u200d♀', 'mi', '😭', 'terektek', '🦍', 'tek', '😱', 'tek', '🙊', '🤍', '63', 'paintcoatdbrush', 'GENSHIN', 'ANEMO', 'BOYS', 'MIXUE', 'COVER', 'ASJKNDF', ',', 'VSA', 'https', ':', '//t.co/kGmrAUiRQ3', '64', 'dinasbakuhantam', '@', 'Askrlfess', 'Yg', 'demo', 'org²', 'miskin', 'yg', 'bhkan', 'gatau', 'menu', 'mixue', 'wkwk', '65', 'slayerdarklord7', '@', 'hourly_absurd', 'Mixue', 'berebut', 'lahan', '66', 'arrasseoyo', '@', 'moonareas', 'ni', '🤪', 'ai', '😘', 'wo', '💅', 'ai', '🥺', 'ni', '🤭', 'mixue', '👻', 'bing', '🙄', 'cheng', '😆', 'tianmi', '🏃\\u200d♀', 'mi', '😭', 'ni', '🤪', 'ai', '😘', 'wo', '💅', 'ai', '🥺', 'ni', '🤭', 'mixue', '👻', 'bing', '🙄', 'cheng', '😆', 'tianmi', '🏃\\u200d♀', 'mi', '😭', 'terektek', '🦍', 'tek', '😱', 'tek', '🙊', '67', 'Ikaasthetic', '@', 'tanyarlfes', 'kamu', 'belum', 'keliling', 'nyobain', 'gerai', 'mixue', 'di', 'seluruh', 'indonesia', 'nderr', ',', 'kamu', 'gamau', 'tau', 'ending', 'one', 'piece', 'kahh', '?', 'hehe', 'u', 'did', 'a', 'great', 'job', 'by', 'so', 'far', '.', 'imo', 'klo', 'aku', 'mati', 'skrg', 'dosaku', 'masih', 'banyak', ',', 'tersiksa', 'di', 'dunia', 'bisa', 'bundir', ',', 'tp', 'kalo', 'tersiksa', 'di', 'neraka', 'mau', 'lari', 'kmn', 'lagi', '?', '68', 'LiedOfSpheres', '1.', 'ada', 'kucing', ',', 'warnanya', 'oren', ',', 'kemana-mana', 'pake', 'pita', 'merah', ',', 'terus', 'bola', 'matanya', 'hijau', ',', 'jalan-jalan', 'di', 'depan', 'ruko', 'mixue', '.', '\\\\n\\\\nP1', 'mulai', 'sampe', '13.15', '69', 'kanimakii', 'ttp', 'mixue', 'for', 'the', 'rescue', 'krna', 'DILUAR', 'PANAS', 'BGT', 'ANJRIIITTR', '?', '?', '?', '!', '!', '!', '?', '?', '?', 'https', ':', '//t.co/5u7U8wEneb', '70', 'sashaodolhalal', 'Tolong', 'ini', 'mah', ',', 'playlist', 'ku', 'udah', 'dijajah', 'oleh', 'mixue😭', 'https', ':', '//t.co/UpkYRqW7ov', '71', 'asaheint', '@', 'yjhpride', 'ni', 'ai', 'wo', 'wo', 'ai', 'ni', 'mixue', 'bing', 'cheng', 'tian', 'mi', 'mi', '72', 'spicysourcandy', 'apa', 'persamaan', 'kamu', 'sama', 'mixue', '?', 'punya', 'cabang', 'dimana', \"''\", '\\\\n\\\\ni', 'got', 'fr', 'tiktok', '73', 'dodysoerja', 'Jadi', 'pengen', 'mixue', 'https', ':', '//t.co/lh1w5CiYHE', '74', 'JUNHANtto', '@', 'WINTERddo', 'kalau', 'gratis', 'aku', 'harus', 'bangun', 'mixue', 'di', 'kamar', 'teteh', ',', 'gmn..', 'masih', 'mau', '?', '75', 'arrasseoyo', '@', 'moonareas', 'mixue', 'yg', 'selalu', 'kosong', '76', 'Miaunghao', '@', 'VOUISVRE', '️️', '️️\\\\n️️', '️️\\\\n️️', '️️\\\\n️', 'Nggaaaakkkkkkk', ',', 'nanti', 'malem', 'mau', 'ke', 'peresmian', 'Mixue', '!', '!', '\\\\n️️', '️\\\\n\\\\n️', '77', 'JUNHANtto', '@', 'SOHYUNddo', '@', 'stayinditto', 'boleh', ',', 'tp', 'harus', 'bangun', 'gerai', 'mixue', 'dulu', 'di', 'rumah', 'teteh', '78', 'vanyfebrianaa', 'Ngikutin', 'yg', 'lg', 'viral', ',', 'beli', 'es', 'cream', 'mixue', ',', 'panas', 'panas', 'siang', 'siang', 'ke', 'mall', 'cijantung', 'demi', 'anak', 'hehe', 'https', ':', '//t.co/xatNSoy8KB', '79', 'salrsdafny', 'alhamdulillah', 'batu', 'punya', 'mixue', '80', 'cermindandan', '✨️Manifesting', 'Mixue', 'buka', 'di', 'pinggir', 'jalan', 'raya', 'rumah', 'gue✨️', '81', 'kuntieida', 'masih', 'ga', 'nyangka', 'kelompok', 'mixue', 'ini', 'menang..', 'grup', 'nya', 'kosong', 'ga', 'pernah', 'bahas', 'materi', 'cuma', 'semangat', 'semangat', 'doang🥲', '82', 'SVNOOKlM', 'gue', 'pengen', 'pizza', 'tp', 'mau', 'lemonade', 'nya', 'mixue', '83', 'Miaunghao', '@', 'VOUISVRE', '️️', '️️\\\\n️️', '️️\\\\n️️', '️️\\\\nGue', 'akan', 'tetap', 'berpegang', 'teguh', 'pada', 'badut', 'Mixue', '!', '!', '\\\\n️️', '️\\\\n\\\\n️', '84', 'tribunjogja', 'Fenomena', 'Mixue', 'Menjamur', 'di', 'Indonesia', ',', 'Ini', 'Analisis', 'Akademisi', 'Unair', 'https', ':', '//t.co/iFbrvd0XzW', '85', 'afif_harfandi', '@', 'Loceaniee86', 'Sama', 'mixue', 'manisan', 'mana', 'kak', '🤣', '86', 'SVNOOKlM', 'di', 'pim', 'gak', 'ada', 'mixue', 'kah', '87', 'kumparan', 'Area', 'Manajer', 'dari', 'salah', 'satu', 'cabang', 'Mixue', 'ini', 'juga', 'mengungkap', 'jumlah', 'modal', 'untuk', 'membuka', 'outletnya', '.', '#', 'focus', '#', 'mixue', '#', 'story', 'https', ':', '//t.co/k5HmcyUiX6', '88', 'Areloghy', 'I', 'Mixue', 'You..', '\\U0001fae0\\U0001fae0', 'https', ':', '//t.co/0Jqqf7xJHa', '89', 'GrapedUp', '@', 'kuroo07', 'HAHAHAHA', 'MIXUE\\\\nAsli', 'yaaa', 'kotak', 'kota', 'kecil', 'tp', 'ada', 'mixue', '2', '😭😭😭', '90', 'reginalexandraa', '@', 'c_yelizavetha', 'suka', 'nyaa', 'mixue', '?', '?', '91', 'roswelie', 'Hidup', 'gue', 'dijajah', 'mixue', 'anjir', 'lah', 'wkwk', 'https', ':', '//t.co/m3i861Tviq', '92', 'vrenzian', '@', 'clouddyavocado', '@', 'moonareas', 'beli', 'mixue', '93', 'emiraldine', 'Ini', 'dipantau', 'ya', 'temen', 'temen', 'udh', 'sampe', 'ngedate', 'ke', 'mixue😏😏😏', 'https', ':', '//t.co/wZEnhlAZam', '94', 'hufflefey', 'Setiap', 'toko', 'mixue', 'yang', 'baru', 'buka', 'langsung', 'gas', 'ngueng', 'https', ':', '//t.co/V7swtrdRU7', 'https', ':', '//t.co/mZsMuTBTbM', '95', 'k3tiklim4', '@', 'jihann', 'jjn', 'eskrim', 'mixue', 'tengahari', 'mntp', 'tuh', 'makji', '96', 'ilvuna_', '@', 'lastaligator', 'ntar', 'cipy', 'nyanyi', 'mixue', '10jam', '97', 'jnjjxyz', 'pengen', 'mixue', 'tpi', 'disini', 'blom', 'ada😩', '98', 'mamatolodon', '@', 'meitteok_', 'minum', 'mixue', 'bikin', 'adem', 'met', '99', 'Martha_Baqh', '@', 'idextratime', 'date', 'di', 'mixue']\n"
     ]
    }
   ],
   "source": [
    "print(tokens)"
   ]
  },
  {
   "cell_type": "markdown",
   "id": "598fc2d5",
   "metadata": {},
   "source": [
    "### stemming"
   ]
  },
  {
   "cell_type": "code",
   "execution_count": 11,
   "id": "50de083f",
   "metadata": {},
   "outputs": [],
   "source": [
    "\n",
    "from Sastrawi.Stemmer.StemmerFactory import StemmerFactory"
   ]
  },
  {
   "cell_type": "code",
   "execution_count": 12,
   "id": "8644d217",
   "metadata": {},
   "outputs": [],
   "source": [
    "factory = StemmerFactory()\n",
    "stemmer = factory.create_stemmer()"
   ]
  },
  {
   "cell_type": "code",
   "execution_count": 13,
   "id": "11101983",
   "metadata": {},
   "outputs": [],
   "source": [
    "words = [\"mixue\"]"
   ]
  },
  {
   "cell_type": "code",
   "execution_count": 16,
   "id": "6152820f",
   "metadata": {},
   "outputs": [],
   "source": [
    "stemmed_tokens = [stemmer.stem(word) for word in tokens]"
   ]
  },
  {
   "cell_type": "code",
   "execution_count": 15,
   "id": "f40f925d",
   "metadata": {},
   "outputs": [
    {
     "name": "stdout",
     "output_type": "stream",
     "text": [
      "['username', 'content', '0', 'v4jr4', '', 'icblues', 'mixue', 'intensifies', '', '1', 'bidadarikocakkk', 'kalau', 'nggak', 'minum', 'mixue', 'tuh', 'gk', 'punya', 'temen', 'kah', '', '2', 'twtmaknae', 'udah', 'full', 'mixue', 'belum', 'disanaaaaa', 'sobattt n', '', 'luvtinyteez', 'https', '', 't co leph4oqlrg', '3', 'sakkurae', 'mixue', 'please', 'stop', 'gatekeeping', 'the', 'strawberry', 'ice', 'cream', '4', 'initangg', 'gais', 'beli', 'kfc', 'or', 'mixue', 'ya', '', '5', 'lhokgnot', '', 'tanyakanrl', 'beli', 'franchise', 'mixue', 'nder', '6', 'astrnavt', 'ate', 'gak', 'wareg', 'yaopo', 'wong', 'roti', 'sisir', '', 'mixue', '', 'pangsit', '', 'siomay', 'melbu', 'kabeh', '7', 'reginalexandraa', 'selamat', '100', 'juta', 'duduk', 'jo', '', 'jangan', 'lupa', 'mixue', 'nyaa', '', '', 'jonathantasena', '8', 'heiseonberg', '', 'uppersideffects', 'woy', 'mixue', '9', 'kawaiiku desu', '', 'hwongdesou', 'di', 'sekitar', 'rumah', 'aku', 'ada', 'ruko', 'yang', 'betul', 'di', 'sewa', 'kan', '', 'mungkin', 'besar', 'akan', 'jadi', 'mixue', 'nanti', '10', 'forelskeut', 'mixue', 'hampir', 'tiap', 'hari', '', 'boncos', 'gue', 'lama', '', '11', 'beombeargyu13', '', 'friday 0999', 'mixue', 'tek', 'tek', 'tek', 'tek', 'tek', '', 'mixue', 'ft', 'latto', '', '12', 'abelafyu', 'duh', 'pgn', 'seblak', 'sm', 'mixue', '13', 'immochimo', 'rasa', 'mau', 'jalan', 'ke', 'depan', 'beli', 'mixue', '14', 'miaunghao', '', 'vouisvre', '', 'n', 'n', 'n mana', 'enak', 'anjir', 'rumah', 'gerai', 'mixueeee', '', 'gajadilah', 'gue', 'ngajak', 'lo', 'ke', 'resmi', 'gerai', 'mixue', '', 'n', 'n n', '15', 'nan amalia', '', 'althanara', 'semangaaaat', '', 'kita', 'harus', 'hidup', 'krn', 'blm', 'cobain', 'mixue', 'rasa', 'indomi', '16', 'neymarsgfriend', '', 'itsbryl', 'mixue', '17', 'darjofess', 'sdf', '', 'info', 'mixue', 'seng', 'ga', 'sepiro', 'rame', 'rek', '18', 'seokhye15', '', 'sf anastasiaa', 'knp', 'gk', 'mixue', '19', 'qirongsbaobei', '', 'mxtx fess', 'bisa', 'bunyi', 'ni', 'ai', 'wo', 'wo', 'ai', 'ni', 'mixue', 'bing', 'cheng', 'tianmi', 'mi', '20', 'alyathekidd', '', 'nnajww', 'mixue', 'yang', 'paling', 'enak', 'yang', 'mana', 'dehh', '', '21', 'btbti s', '', 'convomf', 'uwu', 'bet', 'cerita', 'org', '', 'sementara', 'hati', 'hampir', 'jadi', 'lapak', 'mixue', '22', 'hyjsunshine', 'bom', 'pernah', 'nyobain', 'mixue', '', 'saran', 'dong', 'gaes', 'yg', 'enak', 'apa', 'npic', 'ctto', 'https', '', 't co lmhl9h2rul', '23', 'kurniawatie77', 'bokep', 'anak', 'smk', 'viral n', '', 'gt', '', 'https', '', 't co difypkrp5q', '', 'lt', '', 'n n', '', 'timnasday', 'mixue', 'hansamu', 'fajar', 'aceh', 'jenrina', 'jaya', 'jaya', 'jaya', 'brunei', 'bisma', 'morgan', 'ramadhan', 'sananta', '', 'songjoongki', 'syahrian', 'abimanyu', '', 'ometv', '', 'ometvsange', '', 'ometvbocil', '', 'ometvbugil', '', 'ometvhot', '', 'ometvcolmek', '', 'ometvhijab', '24', 'karinabuaya', 'aku', 'suka', 'mixue', 'https', '', 't co hl78lcxkx9', '25', 'miaunghao', '', 'vouisvre', '', 'n', 'n', 'n', 'iyalahh', '', '', 'dedikasi', 'gue', 'buat', 'mixue', 'itu', 'sangat', 'patut', 'acung', 'jempol', '', '', 'n', 'n n', '26', 'andisan23', 'buset', 'bos', '', 'jd', 'viral', '', 'sedikit', '18', 'nhttps', '', 't co 1ch2guqumu n n', '', 'timnasday', 'mixue', 'hansamu', 'fajar', 'aceh', 'jenrina', 'jaya', 'jaya', 'jaya', 'brunei', 'bisma', 'morgan', 'ramadhan', 'sananta', '', 'songjoongki', 'syahrian', 'abimanyu', '', 'ometv', '', 'ometvsange', '', 'ometvbocil', '', 'ometvbugil', '', 'ometvhotsyahrian', 'abimanyu', 'alfamidi', '27', 'reallinoo', 'tim', 'mixue', 'beli', 'lemonadenya', 'karena', 'enak', '', '', '', 'https', '', 't co jnmk326tef', '28', 'almondcz', '', 'euphorialya', '', '153926440f', 'ndd', 'mixue', 'nya', 'barru', 'kah', '', '29', 'jjoengsong', '', 'aiszalee', 'kurang', 'semangat', '', 'harus', 'gin n ni', 'awo', 'ow0', 'ani', 'we', 'sepeng', 'sada', 'mimi', 'ni', 'awo', 'owo', 'ani', 'we', 'sepeng', 'sada', 'mimi', 'but', 'ni', 'ai', 'w0', 'wo', 'ai', 'ni', 'mixue', 'bing', 'cheng', 'tian', 'mi', 'mi', 'ni', 'ai', 'wo', 'wo', 'ai', 'ni', 'mixue', 'bing', 'cheng', 'tian', 'mi', 'mi', '30', 'prk zaz', 'akun', 'w', 'sepi', 'banget', 'seperti', 'hati', '', 'smoga', 'tida', 'jdi', 'cabang', 'mixue', '31', 'somaykotak', '', 'sbyfess', 'aku', 'sek', 'trauma', 'ng', 'mixue', '', '', '', 'order', 'strwbry', 'lucky', 'sundae', 'pake', 'waffle', 'jare', 'kasir', 'e', '', 'bisa', 'banget', 'kak', '', 'pake', 'waffle', 'yah', '', 'pas', 'tak', 'jukuk', 'oleh', 'e', 'pudding', '', 'pas', 'tak', 'protes', 'ngomong', 'e', 'suengak', '', 'waffle', 'habis', 'ya', '', 'terus', 'yo', 'tak', 'eyel', 'depan', 'kata', 'bisa', '', 'lahkok', 'cah', 'e', 'ngomong-', '32', 'gyukvn', 'gigi', 'kosong', 'di', 'isi', 'sama', 'mixue', 'ntar', 'https', '', 't co tk1zzspccr', '33', 'fullofsky6104', 'gak', 'tau', 'kenapa', '', 'badmood', 'bgt', 'tiba', '', 'di', 'tambah', 'beli', 'mixue', 'jasmine', 'tea', 'malah', 'jadi', 'earl', 'tea', 'https', '', 't co rtthyujczk', '34', 'mbokyomandek', '', 'dekyumz', 'aamiin', 'yum', 'mau', 'buka', 'outlet', 'mixue', '35', 'deylio0o', '', 'omnivaraa', 'saldo', 'bisa', 'buat', 'beli', 'ruko', 'mixue', 'gx', '', '', '36', 'm0neyac', 'mixue', 'date', '', 'https', '', 't co igs3zqu35s', '37', 'stanidolmustbe', '', 'tanyakanrl', 'buka', 'mixue', 'nder', '38', 'asaaveen', '', 'dolcyko', '', 'treasuremembers', 'hduhh', 'mna', 'niee', 'mixue', '', 'ini', 'hrus', 'bngt', 'lirik', 'tww', '', 'urwell', 'lovee', '39', 'ofjaake', '', 'awyubin', '', 'tak', 'badut', 'mixue', 'mana', 'bisa', 'main', 'lato', '', '', '', '40', 'lostranenie', 'nmust', 'include', '', 'n1', '', 'nama', 'oc n2', '', 'foto', 'muse n3', '', 'funfact', '', 'yang', 'di', 'greeting', 'kemarin', '', 'boleh', 'ganti', 'dengan', 'tuju', 'kelompok', '', 'n4', '', 'tagline', 'dari', 'brand', 'yang', 'diplesetin n nsisanya', 'mau', 'tambahin', 'apa', 'aja', 'bebas', '', 'jadi', 'sponsor', 'kali', 'ini', 'bukan', 'cuma', 'mixue', 'tapi', 'semua', 'brand-brand', 'itu', '', 'n', '41', 'stasiunancol', '', 'naodje729', 'knp', 'jd', 'ba', 'mixue', 'si', 'ji', '42', 'blvueocean', 'abang', 'nih', 'bener', 'bener', 'ken', 'ayah', 'tuker', 'tambah', 'sama', 'mixue', 'aja', 'https', '', 't co qcqntctqvc', '43', 'ahmad reality', '', 'iunaseraline', 'bukan', 'jadi', 'gerai', 'mixue', 'paling', 'jadi', 'chanel', 'official', 'mixue', 'indonesia', 'wkwkwkw', '44', 'eight1ny', 'isi', 'mixue', '', 'kak', 'jangan', 'nyerah', 'dulu', 'one', 'piece', 'belum', 'tamat', '', 'kak', 'sini', 'shampoo', 'sama', 'kondiku', 'masih', 'banyak', '', 'nanti', 'aku', 'kasih', '', 'dsb', '', 'kata', 'kaya', 'gin', 'kenapa', 'imbas', 'banget', 'ya', '', 'mereka', 'nyemangatin', 'dengan', 'kata', 'lelucon', '', 'tapi', 'malah', 'bikin', 'nang', '', '', '', 'ndan', 'pas', 'wooyoung', 'cover', 'logic', '', 'gw', 'akan', '45', 'lucifbr', 'enak', 'ini', 'didatengin', '', 'malah', 'jadi', 'mixue', 'date', '46', 'senjakalaw', 'mixue', 'buka', 'cabang', 'di', 'dom', 'gue', '47', 'senanana', 'balik', 'ke', 'akun', 'ini', '', 'tau2', 'ambil', 'alih', 'mixue n n mmd', 'genshin', 'impact', '5wirl', 'https', '', 't co ti1kg24z9n', 'via', 'n', '', 'youtube', 'https', '', 't co budzojcnl5', '48', 'lucifbr', 'tadi', 'ketemu', 'juza', 'di', 'gerai', 'mixue', 'belah', '', 'https', '', 't co bxvue4ioql', '49', 'dahliaswand', '', 'mixue lndonesla', '', 'tanyakanrl', 'soal', 'harga', 'lumayan', 'dbawahnya', 'ya', '50', 'aku alpukat', 'beliin', 'aku', 'mixue', 'dong', '', '51', 'vouisvre', '', 'miaunghao', 'n nudahlah', '', 'sekali', 'lo', 'pindah', 'rumah', 'di', 'gerai', 'mixue', 'aja', '', 'n n', '52', 'yuzinhan', '', 'yarnzzn', 'jadi', 'ga', 'diajarin', 'bahasa', 'mixue', '', 'kak', '', 'atau', 'kasih', 'toko', 'mixue', 'satu', '', '53', 'oohf', 'salah', 'bgt', 'ke', 'mixue', 'di', 'jam', 'gin', '54', 'wintersurabaya', '', 'convomfs', 'rillll', '', 'aku', 'kalo', 'ke', 'mixue', 'suka', 'sen', 'ini', '55', 'makoorca', '', 'jihann', 'sama', 'aku', 'pgn', 'nyobain', 'mixue', '', '56', 'kuncirfiony', '', 'symfiony', '', 'a fionyjkt48', 'loh', 'kok', 'aktif', '', 'hampir', 'aja', 'd', 'jadiin', 'akun', 'mixue', '57', 'panzzzzzu', '', 'gibran tweet', 'gimana', 'mas', 'udah', 'ijin', 'belum', 'mixue', 'nya', 'di', 'kota', 'nya', 'mas', '58', 'neverminddaeng', 'sorry', 'bgt', 'tp', 'kayak', 'mixue', 'https', '', 't co zp5bgd75uq', '59', 'urnicesee', '', 'mengslebew', 'latto', 'latto', 'sm', 'mixue', 'jadi', 'saing', 'pacepet', 'cepet', 'siapa', 'yg', 'pertama', 'usai', 'dunia', '60', 'rafifarga', '', 'razaksyarif', 'beda', 'bro', '', 'kalo', 'tukang', 'bakso', 'kan', 'ada', 'kasus', 'di', 'mana', 'bakso', 'tuh', 'ada', 'oknum', 'yang', 'pake', 'boraks', '', 'formalin', '', 'dan', 'daging', 'tikus', '', 'itu', 'di', 'agama', 'tentu', 'boleh', 'makanya', 'gak', 'minta', 'logo n nkalo', 'mixue', 'karena', 'usaha', 'gede', 'cina', 'komunis', 'pki', 'harus', 'pake', 'logo', '61', 'strawbe44817318', '', 'mstlyrhw', '', 'tanyarlfes', '', 'chichamonie', 'ga', 'dulu', '', '', 'adik', 'nila', 'aja', 'nanti', 'uang', 'nya', 'buat', 'beli', 'mixue', '62', 'arrasseoyo', '', 'moonareas', 'ni', '', 'ai', '', 'wo', '', 'ai', '', 'ni', '', 'mixue', '', 'bing', '', 'cheng', '', 'tianmi', '', 'mi', '', 'ni', '', 'ai', '', 'wo', '', 'ai', '', 'ni', '', 'mixue', '', 'bing', '', 'cheng', '', 'tianmi', '', 'mi', '', 'terektek', '', 'tek', '', 'tek', '', '', '63', 'paintcoatdbrush', 'genshin', 'anemo', 'boys', 'mixue', 'cover', 'asjkndf', '', 'vsa', 'https', '', 't co kgmrauirq3', '64', 'dinasbakuhantam', '', 'askrlfess', 'yg', 'demo', 'org', 'miskin', 'yg', 'bhkan', 'gatau', 'menu', 'mixue', 'wkwk', '65', 'slayerdarklord7', '', 'hourly absurd', 'mixue', 'rebut', 'lahan', '66', 'arrasseoyo', '', 'moonareas', 'ni', '', 'ai', '', 'wo', '', 'ai', '', 'ni', '', 'mixue', '', 'bing', '', 'cheng', '', 'tianmi', '', 'mi', '', 'ni', '', 'ai', '', 'wo', '', 'ai', '', 'ni', '', 'mixue', '', 'bing', '', 'cheng', '', 'tianmi', '', 'mi', '', 'terektek', '', 'tek', '', 'tek', '', '67', 'ikaasthetic', '', 'tanyarlfes', 'kamu', 'belum', 'keliling', 'nyobain', 'gerai', 'mixue', 'di', 'seluruh', 'indonesia', 'nderr', '', 'kamu', 'gamau', 'tau', 'ending', 'one', 'piece', 'kahh', '', 'hehe', 'u', 'did', 'a', 'great', 'job', 'by', 'so', 'far', '', 'imo', 'klo', 'aku', 'mati', 'skrg', 'dosa', 'masih', 'banyak', '', 'siksa', 'di', 'dunia', 'bisa', 'bundir', '', 'tp', 'kalo', 'siksa', 'di', 'neraka', 'mau', 'lari', 'kmn', 'lagi', '', '68', 'liedofspheres', '1', 'ada', 'kucing', '', 'warna', 'oren', '', 'mana', 'pake', 'pita', 'merah', '', 'terus', 'bola', 'mata', 'hijau', '', 'jalan', 'di', 'depan', 'ruko', 'mixue', '', 'n np1', 'mulai', 'sampe', '13 15', '69', 'kanimakii', 'ttp', 'mixue', 'for', 'the', 'rescue', 'krna', 'luar', 'panas', 'bgt', 'anjriiittr', '', '', '', '', '', '', '', '', '', 'https', '', 't co 5u7u8weneb', '70', 'sashaodolhalal', 'tolong', 'ini', 'mah', '', 'playlist', 'ku', 'udah', 'jajah', 'oleh', 'mixue', 'https', '', 't co upkyrqw7ov', '71', 'asaheint', '', 'yjhpride', 'ni', 'ai', 'wo', 'wo', 'ai', 'ni', 'mixue', 'bing', 'cheng', 'tian', 'mi', 'mi', '72', 'spicysourcandy', 'apa', 'sama', 'kamu', 'sama', 'mixue', '', 'punya', 'cabang', 'mana', '', 'n ni', 'got', 'fr', 'tiktok', '73', 'dodysoerja', 'jadi', 'ken', 'mixue', 'https', '', 't co lh1w5ciyhe', '74', 'junhantto', '', 'winterddo', 'kalau', 'gratis', 'aku', 'harus', 'bangun', 'mixue', 'di', 'kamar', 'teteh', '', 'gmn', 'masih', 'mau', '', '75', 'arrasseoyo', '', 'moonareas', 'mixue', 'yg', 'selalu', 'kosong', '76', 'miaunghao', '', 'vouisvre', '', 'n', 'n', 'n', 'nggaaaakkkkkkk', '', 'nanti', 'malem', 'mau', 'ke', 'resmi', 'mixue', '', '', 'n', 'n n', '77', 'junhantto', '', 'sohyunddo', '', 'stayinditto', 'boleh', '', 'tp', 'harus', 'bangun', 'gerai', 'mixue', 'dulu', 'di', 'rumah', 'teteh', '78', 'vanyfebrianaa', 'ngikutin', 'yg', 'lg', 'viral', '', 'beli', 'es', 'cream', 'mixue', '', 'panas', 'panas', 'siang', 'siang', 'ke', 'mall', 'cijantung', 'demi', 'anak', 'hehe', 'https', '', 't co xatnsoy8kb', '79', 'salrsdafny', 'alhamdulillah', 'batu', 'punya', 'mixue', '80', 'cermindandan', 'manifesting', 'mixue', 'buka', 'di', 'pinggir', 'jalan', 'raya', 'rumah', 'gue', '81', 'kuntieida', 'masih', 'ga', 'nyangka', 'kelompok', 'mixue', 'ini', 'menang', 'grup', 'nya', 'kosong', 'ga', 'pernah', 'bahas', 'materi', 'cuma', 'semangat', 'semangat', 'doang', '82', 'svnooklm', 'gue', 'ken', 'pizza', 'tp', 'mau', 'lemonade', 'nya', 'mixue', '83', 'miaunghao', '', 'vouisvre', '', 'n', 'n', 'ngue', 'akan', 'tetap', 'pegang', 'teguh', 'pada', 'badut', 'mixue', '', '', 'n', 'n n', '84', 'tribunjogja', 'fenomena', 'mixue', 'jamur', 'di', 'indonesia', '', 'ini', 'analisis', 'akademisi', 'unair', 'https', '', 't co ifbrvd0xzw', '85', 'afif harfandi', '', 'loceaniee86', 'sama', 'mixue', 'manis', 'mana', 'kak', '', '86', 'svnooklm', 'di', 'pim', 'gak', 'ada', 'mixue', 'kah', '87', 'kumpar', 'area', 'manajer', 'dari', 'salah', 'satu', 'cabang', 'mixue', 'ini', 'juga', 'ungkap', 'jumlah', 'modal', 'untuk', 'buka', 'outletnya', '', '', 'focus', '', 'mixue', '', 'story', 'https', '', 't co k5hmcyuix6', '88', 'areloghy', 'i', 'mixue', 'you', '', 'https', '', 't co 0jqqf7xjha', '89', 'grapedup', '', 'kuroo07', 'hahahaha', 'mixue nasli', 'yaaa', 'kotak', 'kota', 'kecil', 'tp', 'ada', 'mixue', '2', '', '90', 'reginalexandraa', '', 'c yelizavetha', 'suka', 'nyaa', 'mixue', '', '', '91', 'roswelie', 'hidup', 'gue', 'jajah', 'mixue', 'anjir', 'lah', 'wkwk', 'https', '', 't co m3i861tviq', '92', 'vrenzian', '', 'clouddyavocado', '', 'moonareas', 'beli', 'mixue', '93', 'emiraldine', 'ini', 'pantau', 'ya', 'temen', 'temen', 'udh', 'sampe', 'ngedate', 'ke', 'mixue', 'https', '', 't co wzenhlazam', '94', 'hufflefey', 'tiap', 'toko', 'mixue', 'yang', 'baru', 'buka', 'langsung', 'gas', 'ngueng', 'https', '', 't co v7swtrdru7', 'https', '', 't co mzsmutbtbm', '95', 'k3tiklim4', '', 'jihann', 'jjn', 'eskrim', 'mixue', 'tengahari', 'mntp', 'tuh', 'makji', '96', 'ilvuna', '', 'lastaligator', 'ntar', 'cipy', 'nyanyi', 'mixue', '10jam', '97', 'jnjjxyz', 'ken', 'mixue', 'tpi', 'sini', 'blom', 'ada', '98', 'mamatolodon', '', 'meitteok', 'minum', 'mixue', 'bikin', 'adem', 'met', '99', 'martha baqh', '', 'idextratime', 'date', 'di', 'mixue']\n"
     ]
    }
   ],
   "source": [
    "print(stemmed_tokens)"
   ]
  },
  {
   "cell_type": "markdown",
   "id": "54c3bc0b",
   "metadata": {},
   "source": [
    "### Stop Word Removal"
   ]
  },
  {
   "cell_type": "code",
   "execution_count": 17,
   "id": "4ad56c19",
   "metadata": {},
   "outputs": [
    {
     "name": "stderr",
     "output_type": "stream",
     "text": [
      "[nltk_data] Downloading package stopwords to\n",
      "[nltk_data]     C:\\Users\\ACER\\AppData\\Roaming\\nltk_data...\n",
      "[nltk_data]   Package stopwords is already up-to-date!\n"
     ]
    },
    {
     "data": {
      "text/plain": [
       "True"
      ]
     },
     "execution_count": 17,
     "metadata": {},
     "output_type": "execute_result"
    }
   ],
   "source": [
    "\n",
    "\n",
    "nltk.download('stopwords')"
   ]
  },
  {
   "cell_type": "code",
   "execution_count": 18,
   "id": "8c405b37",
   "metadata": {},
   "outputs": [],
   "source": [
    "from nltk.corpus import stopwords\n",
    "stop_words = stopwords.words('indonesian')"
   ]
  },
  {
   "cell_type": "code",
   "execution_count": 19,
   "id": "24abb7fd",
   "metadata": {},
   "outputs": [],
   "source": [
    "#filter out the stopwords\n",
    "filtered_tokens = [token for token in tokens if token not in stop_words]"
   ]
  },
  {
   "cell_type": "code",
   "execution_count": 20,
   "id": "d354de87",
   "metadata": {},
   "outputs": [
    {
     "name": "stdout",
     "output_type": "stream",
     "text": [
      "['username', 'content', '0', 'v4jr4', '@', 'icblues', 'MiXue', 'intensifies', '~', '1', 'bidadarikocakkk', 'Kalau', 'nggak', 'minum', 'mixue', 'tuh', 'gk', 'temen', 'kah', '?', '2', 'twtmaknae', 'Udah', 'full', 'mixue', 'disanaaaaa', 'sobattt\\\\n', '@', 'luvtinyteez', 'https', ':', '//t.co/lepH4OqLRg', '3', 'sakkurae', 'Mixue', 'please', 'stop', 'gatekeeping', 'the', 'strawberry', 'ice', 'cream', '4', 'initangg', 'Gais', 'beli', 'kfc', 'or', 'mixue', 'ya', '?', '5', 'lhokgnot', '@', 'tanyakanrl', 'beli', 'franchise', 'mixue', 'nder', '6', 'astrnavt', 'ate', 'gak', 'wareg', 'yaopo', 'roti', 'sisir', ',', 'mixue', ',', 'pangsit', ',', 'siomay', 'melbu', 'kabeh😣', '7', 'reginalexandraa', 'selamat', '100', 'juta', 'penduduk', 'jo', ',', 'lupa', 'mixue', 'nyaa', '😋', '@', 'jonathantasena', '8', 'heiseonberg', '@', 'uppersideffects', 'woy', 'MIXUE', '9', 'KawaiiKU_desu_', '@', 'HwongDesou', 'Di', 'rumah', 'Ruko', 'sewa', ',', 'Mixue', '10', 'Forelskeut', 'Mixue', ',', 'boncos', 'gue', 'lama-lama', '.', '11', 'beombeargyu13', '@', 'friday_0999', 'Mixue', 'tek', 'tek', 'tek', 'tek', 'tek', '(', 'mixue', 'ft', 'latto', ')', '12', 'abelafyu', 'duh', 'pgn', 'seblak', 'sm', 'mixue', '13', 'immochimo', 'jalan', 'beli', 'mixue', '14', 'Miaunghao', '@', 'VOUISVRE', '️️', '️️\\\\n️️', '️️\\\\n️️', '️️\\\\n️Mana', 'enak', 'anjir', 'rumahnya', 'gerai', 'Mixueeee', '...', 'Gajadilah', 'gue', 'ngajak', 'lo', 'peresmian', 'gerai', 'Mixue', '!', '\\\\n️️', '️\\\\n\\\\n️', '15', 'nan_amalia', '@', 'althanara', 'semangaaaat', ',', 'hidup', 'krn', 'blm', 'cobain', 'mixue', 'indomi', '16', 'neymarsgfriend', '@', 'itsbryl', 'Mixue', '17', 'darjofess', 'sdf', '!', 'info', 'mixue', 'seng', 'ga', 'sepiro', 'rame', 'rek', '18', 'Seokhye15', '@', 'sf_anastasiaa', 'Knp', 'gk', 'mixue', '19', 'qirongsbaobei', '@', 'mxtx_fess', 'Bisa', 'bunyi', 'ni', 'ai', 'wo', 'wo', 'ai', 'ni', 'mixue', 'bing', 'cheng', 'tianmi', 'mi', '20', 'alyathekidd', '@', 'nnajww', 'mixue', 'enak', 'dehh', '?', '21', 'btbti_s', '@', 'convomf', 'uwu', 'bet', 'cerita', 'org', ',', 'hatiku', 'lapak', 'mixue', '22', 'hyjsunshine', 'Belom', 'nyobain', 'mixue', ',', 'saran', 'gaes', 'yg', 'enak', '😚\\\\npic', 'ctto', 'https', ':', '//t.co/LMhL9h2RUL', '23', 'kurniawatie77', 'bokep', 'anak', 'SMK', 'viral\\\\n==', '&', 'gt', ';', 'https', ':', '//t.co/DIFYpkrp5Q', '&', 'lt', ';', '==\\\\n\\\\n', '#', 'TimnasDay', 'Mixue', 'Hansamu', 'Fajar', 'Aceh', 'JENRINA', 'JAYA', 'JAYA', 'JAYA', 'Brunei', 'Bisma', 'Morgan', 'Ramadhan', 'Sananta', '#', 'SongJoongKi', 'Syahrian', 'Abimanyu', '#', 'ometv', '#', 'ometvsange', '#', 'ometvbocil', '#', 'ometvbugil', '#', 'ometvhot', '#', 'ometvcolmek', '#', 'ometvhijab', '24', 'karinabuaya', 'suka', 'mixue', 'https', ':', '//t.co/Hl78Lcxkx9', '25', 'Miaunghao', '@', 'VOUISVRE', '️️', '️️\\\\n️️', '️️\\\\n️️', '️️\\\\n️', 'Iyalahh', '!', '!', 'Dedikasi', 'gue', 'Mixue', 'patut', 'diacungi', 'jempol', '!', '!', '\\\\n️️', '️\\\\n\\\\n️', '26', 'Andisan23', 'buset', 'bos', ',', 'jd', 'viral', ',', '18+', '.\\\\nhttps', ':', '//t.co/1cH2GuQUMu\\\\n\\\\n', '#', 'TimnasDay', 'Mixue', 'Hansamu', 'Fajar', 'Aceh', 'JENRINA', 'JAYA', 'JAYA', 'JAYA', 'Brunei', 'Bisma', 'Morgan', 'Ramadhan', 'Sananta', '#', 'SongJoongKi', 'Syahrian', 'Abimanyu', '#', 'ometv', '#', 'ometvsange', '#', 'ometvbocil', '#', 'ometvbugil', '#', 'ometvhotSyahrian', 'Abimanyu', 'Alfamidi', '27', 'reallinoo', 'Tim', 'mixue', 'beli', 'lemonadenya', 'enak', '!', '!', '!', 'https', ':', '//t.co/JNmK326tef', '28', 'almondcz', '@', 'euphorialya', '@', '153926440f', 'ndd', 'mixue', 'nya', 'barru', 'kah', '?', '29', 'jjoengsong', '@', 'aiszalee', 'Kurang', 'semangat', ',', 'gini.\\\\n😝Ni', 'AwO💃', 'oW0', 'aNi', 'We', 'sEpeNg', 'sAdA', 'miMi🤘', 'ni', 'aWO🤪', 'oWo', 'aNi', 'wE', 'SePeNg', 'SadA', 'miMi👆', 'but', '🤗Ni', 'Ai', 'w0🕺', 'Wo', 'Ai', 'ni🦄', 'mixue', 'BiNg', 'cHenG😩', 'tiAn', 'mi', 'Mi💞', 'Ni', 'ai', 'Wo😎', 'Wo', 'ai', 'Ni👍', 'mixue', 'biNg', 'cHenG😴', 'tiAn', 'Mi', 'mi🙏', '30', 'Prk_Zaz', 'akun', 'w', 'sepi', 'banget', 'hati', ',', 'smoga', 'tida', 'jdi', 'cabang', 'mixue😔', '31', 'somaykotak', '@', 'sbyfess', 'Aku', 'sek', 'trauma', 'ng', 'mixue', ':', '(', '(', 'order', 'strwbry', 'lucky', 'sundae', 'pake', 'waffle', 'jare', 'kasir', 'e', '``', 'banget', 'kak', '.', 'Pake', 'waffle', 'yah', \"''\", 'pas', 'jukuk', 'e', 'pudding', '.', 'Pas', 'protes', 'ngomong', 'e', 'suengak', '``', 'waffle', 'habis', 'ya', \"''\", 'yo', 'eyel', 'didepan', '.', 'Lahkok', 'cah', 'e', 'ngomong-', '32', 'gyukvn', 'Gigi', 'kosong', 'isi', 'mixue', 'ntar', 'https', ':', '//t.co/tk1zZspccr', '33', 'fullofsky6104', 'Gak', 'tau', ',', 'badmood', 'bgt', 'tiba²', '.', 'Di', 'beli', 'mixue', 'Jasmine', 'tea', 'earl', 'tea🥺', 'https', ':', '//t.co/RtthyUjCzK', '34', 'mbokyomandek', '@', 'Dekyumz', 'aamiin', 'yum', 'buka', 'outlet', 'mixue', '35', 'deylio0o', '@', 'omnivaraa', 'Saldonya', 'beli', 'ruko', 'mixue', 'gx', '?', '😭😭', '36', 'm0neyac', 'mixue', 'date', '🥰', 'https', ':', '//t.co/iGS3zQU35S', '37', 'stanidolmustbe', '@', 'tanyakanrl', 'buka', 'mixue', 'nder', '38', 'ASAAVEEN', '@', 'dolcyko', '@', 'treasuremembers', 'HDUHH', 'MNA', 'NIEE', 'MIXUE', ',', 'INI', 'HRUS', 'BNGT', 'DILIRIK', 'TWW', ',', 'URWELL', 'LOVEE', '39', 'ofJaake', '@', 'awyubin', '@', 'badut', 'mixue', 'main', 'lato', '?', ':', ')', '40', 'lostranenie', 'ㅤ\\\\nMUST', 'INCLUDE', ':', '\\\\n1', '.', 'Nama', 'OC\\\\n2', '.', 'Foto', 'muse\\\\n3', '.', 'Funfact', '(', 'greeting', 'kemarin', ',', 'ganti', 'persetujuan', 'kelompok', ')', '\\\\n4', '.', 'Tagline', 'brand', 'diplesetin\\\\n\\\\nSisanya', 'tambahin', 'aja', 'bebas', '.', 'Jadi', 'sponsor', 'kali', 'mixue', 'brand-brand', '.', '😁\\\\nㅤ', '41', 'stasiunancol', '@', 'Naodje729', 'knp', 'jd', 'BA', 'mixue', 'si', 'ji😭', '42', 'blvueocean', 'abang', 'nih', 'bener', 'bener', 'pengen', 'ayah', 'tuker', 'mixue', 'aja', 'https', ':', '//t.co/qcqntcTqVc', '43', 'ahmad_reality', '@', 'iunaSeraline', 'Bukan', 'gerai', 'mixue', 'palingan', 'chanel', 'official', 'mixue', 'Indonesia', 'wkwkwkw', '44', 'EIGHT1NY', 'diisi', 'mixue', ',', 'kak', 'nyerah', 'one', 'piece', 'tamat', ',', 'kak', 'shampoo', 'kondiku', ',', 'kasih', ',', 'dsb', \"''\", 'kata²', 'kaya', 'gini', 'berimbas', 'banget', 'ya', '?', 'Mereka', 'nyemangatin', 'lelucon', ',', 'bikin', 'nangis', '?', '?', '?', '\\\\nDan', 'pas', 'wooyoung', 'cover', 'Logic', ',', 'gw', 'seakan', '45', 'lucifbr', 'enak', 'didatengin', ',', 'mixue', 'date', '46', 'senjakalaw', 'mixue', 'buka', 'cabang', 'dom', 'gue🤥', '47', '_senanana_', 'akun', ',', 'tau2', 'diambil', 'alih', 'mixue\\\\n\\\\n【MMD', 'Genshin', 'Impact】蜜雪冰城', '【5WIRL】', 'https', ':', '//t.co/ti1kG24z9n', 'via', '\\\\n', '@', 'YouTube', 'https', ':', '//t.co/BUDZOJCNl5', '48', 'lucifbr', 'ketemu', 'juza', 'gerai', 'mixue', 'sebelah', '...', 'https', ':', '//t.co/BxVUE4IOQl', '49', 'Dahliaswand', '@', 'mixue_lndonesla', '@', 'tanyakanrl', 'Soal', 'harga', 'lumayan', 'dbawahnya', 'ya', '50', 'aku_alpukat', 'Beliin', 'mixue', '🥲', '51', 'VOUISVRE', '@', 'Miaunghao', 'ㅤ\\\\nㅤㅤ\\\\nUdahlah', ',', 'lo', 'pindah', 'rumah', 'gerai', 'Mixue', 'aja', '.', '\\\\nㅤ\\\\nㅤㅤ', '52', 'yuzinhan', '@', 'yarnzzn', 'Jadi', 'ga', 'diajarin', 'bahasa', 'mixue', ',', 'Kak', '?', 'Atau', 'kasih', 'toko', 'mixue', '.', '53', 'oohf_', 'Salah', 'bgt', 'mixue', 'jam', 'segini🙂', '54', 'wintersurabaya', '@', 'convomfs', 'Rillll', '.', 'Aku', 'kalo', 'mixue', 'suka', 'pesen', '55', 'MakoOrca', '@', 'jihann', 'Sama', 'pgn', 'nyobain', 'mixue', '😬', '56', 'kuncirfiony', '@', 'Symfiony', '@', 'A_FionyJKT48', 'Loh', 'aktif', ',', 'aja', 'd', 'jadiin', 'akun', 'mixue', '57', 'Panzzzzzu', '@', 'gibran_tweet', 'Gimana', 'mas', 'udah', 'ijin', 'mixue', 'nya', 'kota', 'nya', 'mas', '58', 'neverminddaeng', 'sorry', 'bgt', 'tp', 'kayak', 'mixue😞', 'https', ':', '//t.co/zp5bgd75uq', '59', 'urnicesee', '@', 'mengslebew', 'latto', 'latto', 'sm', 'mixue', 'bersaing', 'pacepet', 'cepet', 'yg', 'mengusai', 'dunia', '60', 'RafifArga', '@', 'razaksyarif', 'Beda', 'bro', ',', 'kalo', 'tukang', 'bakso', 'bakso', 'tuh', 'OKNUM', 'pake', 'boraks', ',', 'formalin', ',', 'daging', 'tikus', ',', 'agama', 'gak', 'logo\\\\n\\\\nKalo', 'mixue', 'perusahaan', 'gede', 'cina', 'komunis', 'PKI', 'pake', 'logo', '61', 'Strawbe44817318', '@', 'mstlyrhw', '@', 'tanyarlfes', '@', 'chichamonie', 'Ga', '🙏', ',', 'adiknya', 'nila', 'aja', 'uang', 'nya', 'beli', 'mixue', '62', 'arrasseoyo', '@', 'moonareas', 'ni', '🤪', 'ai', '😘', 'wo', '💅', 'ai', '🥺', 'ni', '🤭', 'mixue', '👻', 'bing', '🙄', 'cheng', '😆', 'tianmi', '🏃\\u200d♀', 'mi', '😭', 'ni', '🤪', 'ai', '😘', 'wo', '💅', 'ai', '🥺', 'ni', '🤭', 'mixue', '👻', 'bing', '🙄', 'cheng', '😆', 'tianmi', '🏃\\u200d♀', 'mi', '😭', 'terektek', '🦍', 'tek', '😱', 'tek', '🙊', '🤍', '63', 'paintcoatdbrush', 'GENSHIN', 'ANEMO', 'BOYS', 'MIXUE', 'COVER', 'ASJKNDF', ',', 'VSA', 'https', ':', '//t.co/kGmrAUiRQ3', '64', 'dinasbakuhantam', '@', 'Askrlfess', 'Yg', 'demo', 'org²', 'miskin', 'yg', 'bhkan', 'gatau', 'menu', 'mixue', 'wkwk', '65', 'slayerdarklord7', '@', 'hourly_absurd', 'Mixue', 'berebut', 'lahan', '66', 'arrasseoyo', '@', 'moonareas', 'ni', '🤪', 'ai', '😘', 'wo', '💅', 'ai', '🥺', 'ni', '🤭', 'mixue', '👻', 'bing', '🙄', 'cheng', '😆', 'tianmi', '🏃\\u200d♀', 'mi', '😭', 'ni', '🤪', 'ai', '😘', 'wo', '💅', 'ai', '🥺', 'ni', '🤭', 'mixue', '👻', 'bing', '🙄', 'cheng', '😆', 'tianmi', '🏃\\u200d♀', 'mi', '😭', 'terektek', '🦍', 'tek', '😱', 'tek', '🙊', '67', 'Ikaasthetic', '@', 'tanyarlfes', 'keliling', 'nyobain', 'gerai', 'mixue', 'indonesia', 'nderr', ',', 'gamau', 'tau', 'ending', 'one', 'piece', 'kahh', '?', 'hehe', 'u', 'did', 'a', 'great', 'job', 'by', 'so', 'far', '.', 'imo', 'klo', 'mati', 'skrg', 'dosaku', ',', 'tersiksa', 'dunia', 'bundir', ',', 'tp', 'kalo', 'tersiksa', 'neraka', 'lari', 'kmn', '?', '68', 'LiedOfSpheres', '1.', 'kucing', ',', 'warnanya', 'oren', ',', 'kemana-mana', 'pake', 'pita', 'merah', ',', 'bola', 'matanya', 'hijau', ',', 'jalan-jalan', 'ruko', 'mixue', '.', '\\\\n\\\\nP1', 'sampe', '13.15', '69', 'kanimakii', 'ttp', 'mixue', 'for', 'the', 'rescue', 'krna', 'DILUAR', 'PANAS', 'BGT', 'ANJRIIITTR', '?', '?', '?', '!', '!', '!', '?', '?', '?', 'https', ':', '//t.co/5u7U8wEneb', '70', 'sashaodolhalal', 'Tolong', 'mah', ',', 'playlist', 'ku', 'udah', 'dijajah', 'mixue😭', 'https', ':', '//t.co/UpkYRqW7ov', '71', 'asaheint', '@', 'yjhpride', 'ni', 'ai', 'wo', 'wo', 'ai', 'ni', 'mixue', 'bing', 'cheng', 'tian', 'mi', 'mi', '72', 'spicysourcandy', 'persamaan', 'mixue', '?', 'cabang', 'dimana', \"''\", '\\\\n\\\\ni', 'got', 'fr', 'tiktok', '73', 'dodysoerja', 'Jadi', 'pengen', 'mixue', 'https', ':', '//t.co/lh1w5CiYHE', '74', 'JUNHANtto', '@', 'WINTERddo', 'gratis', 'bangun', 'mixue', 'kamar', 'teteh', ',', 'gmn..', '?', '75', 'arrasseoyo', '@', 'moonareas', 'mixue', 'yg', 'kosong', '76', 'Miaunghao', '@', 'VOUISVRE', '️️', '️️\\\\n️️', '️️\\\\n️️', '️️\\\\n️', 'Nggaaaakkkkkkk', ',', 'malem', 'peresmian', 'Mixue', '!', '!', '\\\\n️️', '️\\\\n\\\\n️', '77', 'JUNHANtto', '@', 'SOHYUNddo', '@', 'stayinditto', ',', 'tp', 'bangun', 'gerai', 'mixue', 'rumah', 'teteh', '78', 'vanyfebrianaa', 'Ngikutin', 'yg', 'lg', 'viral', ',', 'beli', 'es', 'cream', 'mixue', ',', 'panas', 'panas', 'siang', 'siang', 'mall', 'cijantung', 'anak', 'hehe', 'https', ':', '//t.co/xatNSoy8KB', '79', 'salrsdafny', 'alhamdulillah', 'batu', 'mixue', '80', 'cermindandan', '✨️Manifesting', 'Mixue', 'buka', 'pinggir', 'jalan', 'raya', 'rumah', 'gue✨️', '81', 'kuntieida', 'ga', 'nyangka', 'kelompok', 'mixue', 'menang..', 'grup', 'nya', 'kosong', 'ga', 'bahas', 'materi', 'semangat', 'semangat', 'doang🥲', '82', 'SVNOOKlM', 'gue', 'pengen', 'pizza', 'tp', 'lemonade', 'nya', 'mixue', '83', 'Miaunghao', '@', 'VOUISVRE', '️️', '️️\\\\n️️', '️️\\\\n️️', '️️\\\\nGue', 'berpegang', 'teguh', 'badut', 'Mixue', '!', '!', '\\\\n️️', '️\\\\n\\\\n️', '84', 'tribunjogja', 'Fenomena', 'Mixue', 'Menjamur', 'Indonesia', ',', 'Ini', 'Analisis', 'Akademisi', 'Unair', 'https', ':', '//t.co/iFbrvd0XzW', '85', 'afif_harfandi', '@', 'Loceaniee86', 'Sama', 'mixue', 'manisan', 'kak', '🤣', '86', 'SVNOOKlM', 'pim', 'gak', 'mixue', 'kah', '87', 'kumparan', 'Area', 'Manajer', 'salah', 'cabang', 'Mixue', 'mengungkap', 'modal', 'membuka', 'outletnya', '.', '#', 'focus', '#', 'mixue', '#', 'story', 'https', ':', '//t.co/k5HmcyUiX6', '88', 'Areloghy', 'I', 'Mixue', 'You..', '\\U0001fae0\\U0001fae0', 'https', ':', '//t.co/0Jqqf7xJHa', '89', 'GrapedUp', '@', 'kuroo07', 'HAHAHAHA', 'MIXUE\\\\nAsli', 'yaaa', 'kotak', 'kota', 'tp', 'mixue', '2', '😭😭😭', '90', 'reginalexandraa', '@', 'c_yelizavetha', 'suka', 'nyaa', 'mixue', '?', '?', '91', 'roswelie', 'Hidup', 'gue', 'dijajah', 'mixue', 'anjir', 'wkwk', 'https', ':', '//t.co/m3i861Tviq', '92', 'vrenzian', '@', 'clouddyavocado', '@', 'moonareas', 'beli', 'mixue', '93', 'emiraldine', 'Ini', 'dipantau', 'ya', 'temen', 'temen', 'udh', 'sampe', 'ngedate', 'mixue😏😏😏', 'https', ':', '//t.co/wZEnhlAZam', '94', 'hufflefey', 'Setiap', 'toko', 'mixue', 'buka', 'langsung', 'gas', 'ngueng', 'https', ':', '//t.co/V7swtrdRU7', 'https', ':', '//t.co/mZsMuTBTbM', '95', 'k3tiklim4', '@', 'jihann', 'jjn', 'eskrim', 'mixue', 'tengahari', 'mntp', 'tuh', 'makji', '96', 'ilvuna_', '@', 'lastaligator', 'ntar', 'cipy', 'nyanyi', 'mixue', '10jam', '97', 'jnjjxyz', 'pengen', 'mixue', 'tpi', 'blom', 'ada😩', '98', 'mamatolodon', '@', 'meitteok_', 'minum', 'mixue', 'bikin', 'adem', 'met', '99', 'Martha_Baqh', '@', 'idextratime', 'date', 'mixue']\n"
     ]
    }
   ],
   "source": [
    "print(filtered_tokens)"
   ]
  },
  {
   "cell_type": "markdown",
   "id": "79cb7b9f",
   "metadata": {},
   "source": [
    "### Analisis sentimental positif dan negatif mengenai mixue"
   ]
  },
  {
   "cell_type": "code",
   "execution_count": 22,
   "id": "a7c0b86d",
   "metadata": {},
   "outputs": [],
   "source": [
    "# Define a list of positive keywords\n",
    "positive_keywords = ['enak','terbaik', 'bagus', 'suka','keren', 'hahan', 'manis', 'ganteng', 'banyak', 'like', 'icecreram', 'manisan']\n",
    "\n",
    "# Define a list of negative keywords\n",
    "negative_keywords = ['gasuka','aneh','buruk', 'benci', 'tidak', 'tidak suka','jelek', 'pedas', 'gaenak']\n",
    "\n",
    "# Define a function to classify the sentiment of a piece of text\n",
    "def classify_sentiment(text):\n",
    "  # Initialize a counter for positive and negative keywords\n",
    "    positive_count = 0\n",
    "    negative_count = 0\n",
    "    neutral =0\n",
    "    status = \"\"\n",
    "  \n",
    "  # Split the text into individual words\n",
    "    words = text.split()\n",
    "   \n",
    "  \n",
    "  # Loop through each word and check if it is a positive or negative keyword\n",
    "    for word in words:\n",
    "        if word in positive_keywords:\n",
    "            positive_count += 1\n",
    "        elif word in negative_keywords:\n",
    "            negative_count += 1\n",
    "        else :\n",
    "            neutral +=1\n",
    "  \n",
    "  # If there are more positive keywords, classify the text as positive\n",
    "    if positive_count > negative_count:\n",
    "         status = \"Positif\"\n",
    "  # If there are more negative keywords, classify the text as negative\n",
    "    elif negative_count > positive_count:\n",
    "        status ='negative'\n",
    "  # If there are an equal number of positive and negative keywords, classify the text as neutral\n",
    "    else:\n",
    "        status='neutral'\n",
    "    return positive_count, negative_count, neutral, status\n",
    "    # Visualize the results"
   ]
  },
  {
   "cell_type": "code",
   "execution_count": 23,
   "id": "6fa84dde",
   "metadata": {},
   "outputs": [],
   "source": [
    "import matplotlib.pyplot as plt"
   ]
  },
  {
   "cell_type": "code",
   "execution_count": 24,
   "id": "f81d1d85",
   "metadata": {},
   "outputs": [
    {
     "data": {
      "image/png": "[encoded data removed]",
      "text/plain": [
       "<Figure size 640x480 with 1 Axes>"
      ]
     },
     "metadata": {},
     "output_type": "display_data"
    }
   ],
   "source": [
    "# Test the function with some example text\n",
    "res = classify_sentiment(text)\n",
    " # should print 'positive'\n",
    "labels = [\"Positif\", \"Negatif\", \"Netral\"]\n",
    "sizes = [res[0], res[1], res[2]]\n",
    "colors = [\"red\", \"green\", \"orange\"]\n",
    "plt.pie(sizes, labels=labels, colors=colors, autopct=\"%1.1f%%\")\n",
    "plt.axis(\"equal\")\n",
    "plt.title(\"Analisis Sentimen Mixue\")\n",
    "plt.show()"
   ]
  },
  {
   "cell_type": "markdown",
   "id": "a902db2b",
   "metadata": {},
   "source": [
    "### Kesimpulan "
   ]
  },
  {
   "cell_type": "markdown",
   "id": "871cb347",
   "metadata": {},
   "source": [
    "Analisis sentimental pada sosial media twitter mengenai mixue para pengguna twiter cenderung netral terhadap\n",
    "mixue dengan nilai analisis 99% dan 5% sisa nya negatif seperti yang digambarkan dalam piechart diatas "
   ]
  },
  {
   "cell_type": "code",
   "execution_count": null,
   "id": "eb97f3bb",
   "metadata": {},
   "outputs": [],
   "source": []
  }
 ],
 "metadata": {
  "kernelspec": {
   "display_name": "Python 3 (ipykernel)",
   "language": "python",
   "name": "python3"
  },
  "language_info": {
   "codemirror_mode": {
    "name": "ipython",
    "version": 3
   },
   "file_extension": ".py",
   "mimetype": "text/x-python",
   "name": "python",
   "nbconvert_exporter": "python",
   "pygments_lexer": "ipython3",
   "version": "3.9.13"
  }
 },
 "nbformat": 4,
 "nbformat_minor": 5
}
